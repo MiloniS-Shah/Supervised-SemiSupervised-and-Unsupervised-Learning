{
 "cells": [
  {
   "cell_type": "code",
   "execution_count": 1,
   "metadata": {},
   "outputs": [],
   "source": [
    "import pandas as pd\n",
    "import numpy as np"
   ]
  },
  {
   "cell_type": "markdown",
   "metadata": {},
   "source": [
    "### 1)a Download the Breast Cancer Wisconsin (Diagnostic) Data Set from: https://archive.ics.uci.edu/ml/datasets/Breast+Cancer+Wisconsin+%28Diagnostic%29. Download the data in https://archive.ics.uci.edu/ml/machine-learning-databases/breast-cancer-wisconsin/wdbc.data, which has IDs, classes (Benign=B, Ma-lignant=M), and 30 attributes. This data has two output classes. Use the first 20% of the positive and negative classes in the file as the test set and the rest asthe training set."
   ]
  },
  {
   "cell_type": "code",
   "execution_count": 2,
   "metadata": {},
   "outputs": [],
   "source": [
    "df=pd.read_csv('cancer1.csv')"
   ]
  },
  {
   "cell_type": "code",
   "execution_count": 3,
   "metadata": {},
   "outputs": [
    {
     "data": {
      "text/plain": [
       "(569, 31)"
      ]
     },
     "execution_count": 3,
     "metadata": {},
     "output_type": "execute_result"
    }
   ],
   "source": [
    "df.shape"
   ]
  },
  {
   "cell_type": "code",
   "execution_count": 4,
   "metadata": {},
   "outputs": [
    {
     "data": {
      "text/plain": [
       "B    357\n",
       "M    212\n",
       "Name: Diag, dtype: int64"
      ]
     },
     "execution_count": 4,
     "metadata": {},
     "output_type": "execute_result"
    }
   ],
   "source": [
    "df['Diag'].value_counts()"
   ]
  },
  {
   "cell_type": "code",
   "execution_count": 5,
   "metadata": {},
   "outputs": [],
   "source": [
    "from sklearn.preprocessing import normalize\n",
    "from sklearn.metrics import confusion_matrix, roc_curve, auc, accuracy_score, roc_auc_score\n",
    "from sklearn.model_selection import train_test_split\n",
    "import matplotlib.pyplot as plt"
   ]
  },
  {
   "cell_type": "code",
   "execution_count": 6,
   "metadata": {},
   "outputs": [],
   "source": [
    "X=df[df.columns[df.columns!='Diag']]\n",
    "X=normalize(X)"
   ]
  },
  {
   "cell_type": "code",
   "execution_count": 7,
   "metadata": {},
   "outputs": [],
   "source": [
    "X=pd.DataFrame(X)"
   ]
  },
  {
   "cell_type": "code",
   "execution_count": 8,
   "metadata": {},
   "outputs": [],
   "source": [
    "Y=df[\"Diag\"]"
   ]
  },
  {
   "cell_type": "code",
   "execution_count": 9,
   "metadata": {},
   "outputs": [],
   "source": [
    "df = pd.concat([X,Y],axis=1)"
   ]
  },
  {
   "cell_type": "code",
   "execution_count": 10,
   "metadata": {},
   "outputs": [],
   "source": [
    "df[\"class\"]=np.where(df[\"Diag\"].str.contains('M'), 1, 0)"
   ]
  },
  {
   "cell_type": "code",
   "execution_count": 11,
   "metadata": {},
   "outputs": [],
   "source": [
    "df=df.drop(['Diag'],axis=1)"
   ]
  },
  {
   "cell_type": "code",
   "execution_count": 12,
   "metadata": {},
   "outputs": [],
   "source": [
    "df=df.sample(frac=1).reset_index(drop=True) #shuffling the data"
   ]
  },
  {
   "cell_type": "markdown",
   "metadata": {},
   "source": [
    "### 1)b Monte-Carlo Simulation: Repeat the following procedures for supervised, un-supervised, and semi-supervised learning M = 30 times, and use randomly selected train and test data"
   ]
  },
  {
   "cell_type": "code",
   "execution_count": 13,
   "metadata": {},
   "outputs": [],
   "source": [
    "from sklearn.svm import LinearSVC\n",
    "from sklearn.model_selection import GridSearchCV, StratifiedShuffleSplit, StratifiedKFold\n",
    "from sklearn.metrics import classification_report\n",
    "import random\n",
    "from sklearn.metrics import precision_score\n",
    "from sklearn.metrics import recall_score\n",
    "from sklearn.metrics import accuracy_score,f1_score,auc,roc_curve,confusion_matrix\n",
    "import seaborn as sns\n",
    "import statistics"
   ]
  },
  {
   "cell_type": "markdown",
   "metadata": {},
   "source": [
    "## i. Supervised Learning: Train an L1-penalized SVM to classify the data.\n",
    "Use 5 fold cross validation to choose the penalty parameter. Use normalized data. Report the average accuracy, precision, recall, F-score, and AUC, for both training and test sets over your M runs. Plot the ROC and report the confusion matrix for training and testing in one of the runs."
   ]
  },
  {
   "cell_type": "code",
   "execution_count": 14,
   "metadata": {},
   "outputs": [
    {
     "name": "stdout",
     "output_type": "stream",
     "text": [
      "For Test:\n",
      "Average Precision Score =  0.9510186669724374\n",
      "Average Recall Score =  0.9129720853858785\n",
      "Average Accuracy =  0.9499542264266098\n",
      "Average F1 score =  0.9309400397883629\n",
      "Average AUC =  0.9424015356506857\n",
      "For Train:\n",
      "Average Precision Score =  0.9604404781725701\n",
      "Average Recall Score =  0.9539553752535497\n",
      "Average Accuracy =  0.9681639443436176\n",
      "Average F1 score =  0.9309400397883629\n",
      "Average AUC =  0.9652824862764011\n"
     ]
    }
   ],
   "source": [
    "p=[]\n",
    "r=[]\n",
    "sc=[]\n",
    "f1=[]\n",
    "AUC=[]\n",
    "pp=[]\n",
    "rr=[]\n",
    "sc3=[]\n",
    "f11=[]\n",
    "AUC1=[]\n",
    "\n",
    "for i in range(1,30):\n",
    "    \n",
    "    ben=df[df[\"class\"]==0]\n",
    "    mal=df[df[\"class\"]==1]\n",
    "\n",
    "    b1=ben.sample(frac=0.2,random_state=random.randint(0,200))\n",
    "    m1=mal.sample(frac=0.2,random_state=random.randint(0,175))\n",
    "    test=pd.concat([b1,m1])\n",
    "    index1=test.index\n",
    "    train=df.drop(index=index1)\n",
    "    \n",
    "    train1=train.sample(frac=1,random_state=random.randint(0,20))\n",
    "    test1=test.sample(frac=1,random_state=random.randint(0,125))\n",
    "    \n",
    "    xtrain, ytrain=train1[train1.columns[train1.columns!='class']], train1['class']\n",
    "    xtest, ytest=test1[test1.columns[test1.columns!='class']], test1['class']\n",
    "    \n",
    "    parameters = {'C':[0.001,0.01,1,100,1000]}\n",
    "    svc=LinearSVC(penalty='l1',dual=False)\n",
    "    clf=GridSearchCV(estimator=svc, param_grid=parameters,cv=5,refit=True)\n",
    "    clf.fit(xtrain,ytrain)\n",
    "    #print(clf.best_params_)\n",
    "    clf.fit(xtrain,ytrain)\n",
    "    \n",
    "    actual =ytest\n",
    "    predicted =clf.predict(xtest)\n",
    "    p.append(precision_score(actual,predicted))\n",
    "    r.append(recall_score(actual,predicted))\n",
    "    sc.append(accuracy_score(actual,predicted))\n",
    "    f1.append(f1_score(actual,predicted))\n",
    "    \n",
    "    actual1=ytrain\n",
    "    predicted1=clf.predict(xtrain)\n",
    "    pp.append(precision_score(actual1,predicted1))\n",
    "    rr.append(recall_score(actual1,predicted1))\n",
    "    sc3.append(accuracy_score(actual1,predicted1))\n",
    "    f11.append(f1_score(actual1,predicted1))\n",
    "    \n",
    "    fpr, tpr, threshold = roc_curve(actual,predicted)\n",
    "    AUC.append(auc(fpr,tpr))\n",
    "    \n",
    "    fpr, tpr, threshold = roc_curve(actual1,predicted1)\n",
    "    AUC1.append(auc(fpr,tpr))\n",
    "    \n",
    "    #AUC.append(auc(actual,predicted))\n",
    "    #print(\"Precision score= \",precision_score(actual,predicted))\n",
    "    #print(\"Recall score= \",recall_score(actual,predicted))\n",
    "    #print(\"accuracy= \",accuracy_score(actual,predicted))\n",
    "    #print(\"F1 score= \",f1_score(actual,predicted))\n",
    "    #print(\"AUC score= \",auc(ytest.reset_index(drop=True),pd.DataFrame(predicted)))\n",
    "\n",
    "print(\"For Test:\")    \n",
    "p1=statistics.mean(p)    \n",
    "print(\"Average Precision Score = \",p1)\n",
    "r1=statistics.mean(r)\n",
    "print(\"Average Recall Score = \",r1)\n",
    "sc1=statistics.mean(sc)\n",
    "print(\"Average Accuracy = \",sc1)\n",
    "f2=statistics.mean(f1)\n",
    "print(\"Average F1 score = \",f2)\n",
    "a1=statistics.mean(AUC)\n",
    "print(\"Average AUC = \",a1)\n",
    "\n",
    "print(\"For Train:\")\n",
    "p2=statistics.mean(pp)    \n",
    "print(\"Average Precision Score = \",p2)\n",
    "r2=statistics.mean(rr)\n",
    "print(\"Average Recall Score = \",r2)\n",
    "sc2=statistics.mean(sc3)\n",
    "print(\"Average Accuracy = \",sc2)\n",
    "f=statistics.mean(f1)\n",
    "print(\"Average F1 score = \",f)\n",
    "a2=statistics.mean(AUC1)\n",
    "print(\"Average AUC = \",a2)"
   ]
  },
  {
   "cell_type": "markdown",
   "metadata": {},
   "source": [
    "### For TEST"
   ]
  },
  {
   "cell_type": "code",
   "execution_count": 121,
   "metadata": {},
   "outputs": [
    {
     "name": "stdout",
     "output_type": "stream",
     "text": [
      "AUC for test is :\n"
     ]
    },
    {
     "data": {
      "text/plain": [
       "0.926391683433937"
      ]
     },
     "execution_count": 121,
     "metadata": {},
     "output_type": "execute_result"
    }
   ],
   "source": [
    "print(\"AUC for test is :\")\n",
    "fpr, tpr, thresholds =roc_curve(actual, predicted)\n",
    "auc(fpr, tpr) #test"
   ]
  },
  {
   "cell_type": "code",
   "execution_count": 16,
   "metadata": {},
   "outputs": [
    {
     "data": {
      "image/png": "[encoded data removed]",
      "text/plain": [
       "<Figure size 432x288 with 1 Axes>"
      ]
     },
     "metadata": {},
     "output_type": "display_data"
    }
   ],
   "source": [
    "plt.figure()\n",
    "lw = 2\n",
    "plt.plot(fpr, tpr, color='darkorange',lw=lw, label='ROC curve (area = %0.2f)' % roc_auc_score(y_true=actual,y_score=predicted))\n",
    "plt.plot([0, 1], [0, 1], color='navy', lw=lw, linestyle='--')\n",
    "plt.xlim([0.0, 1.0])\n",
    "plt.ylim([0.0, 1.05])\n",
    "plt.xlabel('False Positive Rate')\n",
    "plt.ylabel('True Positive Rate')\n",
    "plt.title('ROC Curve')\n",
    "plt.legend(loc=\"lower right\")\n",
    "plt.show()"
   ]
  },
  {
   "cell_type": "code",
   "execution_count": 122,
   "metadata": {},
   "outputs": [
    {
     "name": "stdout",
     "output_type": "stream",
     "text": [
      "CONFUSION MATRIX\n"
     ]
    },
    {
     "data": {
      "text/plain": [
       "Text(33,0.5,'Actual')"
      ]
     },
     "execution_count": 122,
     "metadata": {},
     "output_type": "execute_result"
    },
    {
     "data": {
      "image/png": "[encoded data removed]",
      "text/plain": [
       "<Figure size 432x288 with 2 Axes>"
      ]
     },
     "metadata": {},
     "output_type": "display_data"
    }
   ],
   "source": [
    "print(\"CONFUSION MATRIX\")\n",
    "cm=confusion_matrix(actual,predicted)\n",
    "sns.heatmap(cm,annot=True,cmap='YlGnBu')\n",
    "plt.xlabel('Predicted')\n",
    "plt.ylabel('Actual')"
   ]
  },
  {
   "cell_type": "markdown",
   "metadata": {},
   "source": [
    "### For TRAIN"
   ]
  },
  {
   "cell_type": "code",
   "execution_count": 123,
   "metadata": {},
   "outputs": [
    {
     "name": "stdout",
     "output_type": "stream",
     "text": [
      "AUC for train is: \n"
     ]
    },
    {
     "data": {
      "text/plain": [
       "0.9671740024681202"
      ]
     },
     "execution_count": 123,
     "metadata": {},
     "output_type": "execute_result"
    }
   ],
   "source": [
    "print(\"AUC for train is: \")\n",
    "fpr, tpr, thresholds =roc_curve(actual1, predicted1)\n",
    "auc(fpr, tpr) #train"
   ]
  },
  {
   "cell_type": "code",
   "execution_count": 19,
   "metadata": {},
   "outputs": [
    {
     "data": {
      "image/png": "[encoded data removed]",
      "text/plain": [
       "<Figure size 432x288 with 1 Axes>"
      ]
     },
     "metadata": {},
     "output_type": "display_data"
    }
   ],
   "source": [
    "plt.figure()\n",
    "lw = 2\n",
    "plt.plot(fpr, tpr, color='darkorange',lw=lw, label='ROC curve (area = %0.2f)' % roc_auc_score(y_true=actual1,y_score=predicted1))\n",
    "plt.plot([0, 1], [0, 1], color='navy', lw=lw, linestyle='--')\n",
    "plt.xlim([0.0, 1.0])\n",
    "plt.ylim([0.0, 1.05])\n",
    "plt.xlabel('False Positive Rate')\n",
    "plt.ylabel('True Positive Rate')\n",
    "plt.title('ROC Curve')\n",
    "plt.legend(loc=\"lower right\")\n",
    "plt.show()"
   ]
  },
  {
   "cell_type": "code",
   "execution_count": 124,
   "metadata": {},
   "outputs": [
    {
     "name": "stdout",
     "output_type": "stream",
     "text": [
      "CONFUSION MATRIX\n",
      "[[279   7]\n",
      " [  7 163]]\n"
     ]
    }
   ],
   "source": [
    "print(\"CONFUSION MATRIX\")\n",
    "cm1=confusion_matrix(actual1,predicted1)\n",
    "print(cm1)"
   ]
  },
  {
   "cell_type": "code",
   "execution_count": 21,
   "metadata": {},
   "outputs": [],
   "source": [
    "from sklearn import svm"
   ]
  },
  {
   "cell_type": "code",
   "execution_count": 22,
   "metadata": {},
   "outputs": [],
   "source": [
    "#df"
   ]
  },
  {
   "cell_type": "markdown",
   "metadata": {},
   "source": [
    "## ii.Semi-Supervised Learning/ Self-training: select 50% of the positive class along with 50% of the negative class in the training set as labeled data and the rest as unlabelled data."
   ]
  },
  {
   "cell_type": "code",
   "execution_count": 23,
   "metadata": {},
   "outputs": [],
   "source": [
    "train = pd.concat([xtrain,ytrain],axis=1)\n",
    "test = pd.concat([xtest,ytest],axis=1)"
   ]
  },
  {
   "cell_type": "code",
   "execution_count": 24,
   "metadata": {},
   "outputs": [],
   "source": [
    "malign=train[train['class']==1]\n",
    "ben=train[train['class']==0]"
   ]
  },
  {
   "cell_type": "markdown",
   "metadata": {},
   "source": [
    "### A. Train an L1-penalized SVM to classify the labeled data Use normalized data. Choose the penalty parameter using 5 fold cross validation.\n",
    "### B. Find the unlabeled data point that is the farthest to the decision boundary of the SVM. Let the SVM label it (ignore its true label), and add it to the labeled data, and retrain the SVM. Continue this process until all unlabeled data are used. Test the final SVM on the test data and the average accuracy, precision, recall, F-score, and AUC, for both training and test sets over your M runs. Plot the ROC and report the confusion matrix for training and testing in one of the runs."
   ]
  },
  {
   "cell_type": "code",
   "execution_count": 25,
   "metadata": {},
   "outputs": [],
   "source": [
    "ps=[]\n",
    "rs=[]\n",
    "acs=[]\n",
    "fs=[]\n",
    "AUC=[]\n",
    "\n",
    "ps_tr=[]\n",
    "rs_tr=[]\n",
    "acs_tr=[]\n",
    "fs_tr=[]\n",
    "AUC_tr=[]\n",
    "for M in range(0,30): \n",
    "    mal_df=df[df['class']==0]\n",
    "    ben_df=df[df['class']==1]\n",
    "    df_lab=mal_df.sample(frac=0.5).append(ben_df.sample(frac=0.5)) #taking 50% of the positive and negative class\n",
    "    \n",
    "    index_todrop = df_lab.index\n",
    "    df_unlab=df.drop(index = index_todrop)\n",
    "    df_lab=df_lab.reset_index(drop=True)\n",
    "    df_unlab=df_unlab.reset_index(drop=True)\n",
    "    \n",
    "    x_lab=df_lab.iloc[:,:-1] #train\n",
    "    y_lab=df_lab.iloc[:,30]\n",
    "    \n",
    "    \n",
    "    x_unlab=df_unlab.iloc[:,:-1] #test\n",
    "    y_unlab=df_unlab.iloc[:,30]\n",
    "    \n",
    "    for l in range(len(x_unlab)):\n",
    "        parameters = [{'C': [0.1,0.001,1, 10, 100, 1000],'max_iter':[2000]}]\n",
    "        model = GridSearchCV(svm.LinearSVC(penalty='l1',dual=False),parameters,cv=5 )\n",
    "        model.fit(x_lab, y_lab)\n",
    "        dist_index=np.argmax(model.decision_function(x_unlab))\n",
    "        q=pd.DataFrame(x_unlab.iloc[dist_index,:]).T\n",
    "        y_lab=pd.concat([y_lab,pd.DataFrame(model.predict(q))],axis=0)\n",
    "        #y_lab.reset_index(drop=True)\n",
    "        x_lab=pd.concat([x_lab,q],axis=0)\n",
    "        x_unlab=x_unlab.drop(index=dist_index,axis=0)\n",
    "        x_unlab=x_unlab.reset_index(drop=True)\n",
    "        #print(len(x_lab),len(x_unlab),len(y_lab),dist_index)\n",
    "        \n",
    "    x_unlab=df_unlab.iloc[:,:-1]    \n",
    "    pred_y_f=model.predict(x_unlab) #test\n",
    "    #pred_y_tr = model.predict(x_lab)\n",
    "    ps.append(precision_score(y_unlab, pred_y_f))\n",
    "    rs.append(recall_score(y_unlab,pred_y_f))\n",
    "    acs.append(accuracy_score(y_unlab, pred_y_f)) \n",
    "    fs.append(f1_score(y_unlab, pred_y_f))\n",
    "    fpr, tpr, _ = roc_curve(y_unlab,pred_y_f)\n",
    "    AUC.append(auc(fpr, tpr))\n",
    "        \n",
    "    x_lab=df_lab.iloc[:,:-1]\n",
    "    y_lab=df_lab.iloc[:,-1]\n",
    "    pred_y_f_tr=model.predict(x_lab) #train\n",
    "    #pred_y_tr = model.predict(x_lab)\n",
    "    ps_tr.append(precision_score(y_lab, pred_y_f_tr))\n",
    "    rs_tr.append(recall_score(y_lab,pred_y_f_tr))\n",
    "    acs_tr.append(accuracy_score(y_lab, pred_y_f_tr)) \n",
    "    fs_tr.append(f1_score(y_lab, pred_y_f_tr))\n",
    "    fpr_tr, tpr_tr, _ = roc_curve(y_lab,pred_y_f_tr)\n",
    "    AUC_tr.append(auc(fpr_tr, tpr_tr))"
   ]
  },
  {
   "cell_type": "code",
   "execution_count": 26,
   "metadata": {},
   "outputs": [
    {
     "name": "stdout",
     "output_type": "stream",
     "text": [
      "For Test:\n",
      "Average Precision Score =  0.916600092814872\n",
      "Average Recall Score =  0.9459119496855346\n",
      "Average Accuracy =  0.9471345029239766\n",
      "Average F1 score =  0.9302710613585684\n",
      "Average AUC =  0.9468852113418362\n"
     ]
    }
   ],
   "source": [
    "print(\"For Test:\")    \n",
    "p1=statistics.mean(ps)    \n",
    "print(\"Average Precision Score = \",p1)\n",
    "r1=statistics.mean(rs)\n",
    "print(\"Average Recall Score = \",r1)\n",
    "sc1=statistics.mean(acs)\n",
    "print(\"Average Accuracy = \",sc1)\n",
    "f2=statistics.mean(fs)\n",
    "print(\"Average F1 score = \",f2)\n",
    "a1=statistics.mean(AUC)\n",
    "print(\"Average AUC = \",a1)"
   ]
  },
  {
   "cell_type": "code",
   "execution_count": 27,
   "metadata": {},
   "outputs": [
    {
     "name": "stdout",
     "output_type": "stream",
     "text": [
      "For Train:\n",
      "Average Precision Score =  0.9547429395260549\n",
      "Average Recall Score =  0.9566037735849057\n",
      "Average Accuracy =  0.9667840375586855\n",
      "Average F1 score =  0.9556012063761481\n",
      "Average AUC =  0.9647251077662355\n"
     ]
    }
   ],
   "source": [
    "print(\"For Train:\")\n",
    "p2=statistics.mean(ps_tr)    \n",
    "print(\"Average Precision Score = \",p2)\n",
    "r2=statistics.mean(rs_tr)\n",
    "print(\"Average Recall Score = \",r2)\n",
    "sc2=statistics.mean(acs_tr)\n",
    "print(\"Average Accuracy = \",sc2)\n",
    "f=statistics.mean(fs_tr)\n",
    "print(\"Average F1 score = \",f)\n",
    "a2=statistics.mean(AUC_tr)\n",
    "print(\"Average AUC = \",a2)"
   ]
  },
  {
   "cell_type": "markdown",
   "metadata": {},
   "source": [
    "### For TEST"
   ]
  },
  {
   "cell_type": "code",
   "execution_count": 129,
   "metadata": {},
   "outputs": [
    {
     "name": "stdout",
     "output_type": "stream",
     "text": [
      "AUC for test is: \n"
     ]
    },
    {
     "data": {
      "text/plain": [
       "0.9579160957099189"
      ]
     },
     "execution_count": 129,
     "metadata": {},
     "output_type": "execute_result"
    }
   ],
   "source": [
    "print(\"AUC for test is: \")\n",
    "fpr, tpr, thresholds =roc_curve(y_unlab,pred_y_f)\n",
    "auc(fpr, tpr) #test"
   ]
  },
  {
   "cell_type": "code",
   "execution_count": 130,
   "metadata": {},
   "outputs": [
    {
     "data": {
      "image/png": "[encoded data removed]",
      "text/plain": [
       "<Figure size 432x288 with 1 Axes>"
      ]
     },
     "metadata": {},
     "output_type": "display_data"
    }
   ],
   "source": [
    "plt.figure()\n",
    "lw = 2\n",
    "plt.plot(fpr, tpr, color='darkorange',lw=lw, label='ROC curve (area = %0.2f)' % roc_auc_score(y_true=y_unlab,y_score=pred_y_f))\n",
    "plt.plot([0, 1], [0, 1], color='navy', lw=lw, linestyle='--')\n",
    "plt.xlim([0.0, 1.0])\n",
    "plt.ylim([0.0, 1.05])\n",
    "plt.xlabel('False Positive Rate')\n",
    "plt.ylabel('True Positive Rate')\n",
    "plt.title('ROC Curve')\n",
    "plt.legend(loc=\"lower right\")\n",
    "plt.show()\n"
   ]
  },
  {
   "cell_type": "code",
   "execution_count": 131,
   "metadata": {},
   "outputs": [
    {
     "name": "stdout",
     "output_type": "stream",
     "text": [
      "CONFUSION MATRIX\n"
     ]
    },
    {
     "data": {
      "text/plain": [
       "Text(33,0.5,'Actual')"
      ]
     },
     "execution_count": 131,
     "metadata": {},
     "output_type": "execute_result"
    },
    {
     "data": {
      "image/png": "[encoded data removed]",
      "text/plain": [
       "<Figure size 432x288 with 2 Axes>"
      ]
     },
     "metadata": {},
     "output_type": "display_data"
    }
   ],
   "source": [
    "print(\"CONFUSION MATRIX\")\n",
    "cm3=confusion_matrix(y_unlab,pred_y_f)\n",
    "sns.heatmap(cm3,annot=True,cmap='YlGnBu')\n",
    "plt.xlabel('Predicted')\n",
    "plt.ylabel('Actual')"
   ]
  },
  {
   "cell_type": "markdown",
   "metadata": {},
   "source": [
    "## For TRAIN"
   ]
  },
  {
   "cell_type": "code",
   "execution_count": 132,
   "metadata": {},
   "outputs": [
    {
     "name": "stdout",
     "output_type": "stream",
     "text": [
      "AUC for train: \n"
     ]
    },
    {
     "data": {
      "text/plain": [
       "0.959561161755353"
      ]
     },
     "execution_count": 132,
     "metadata": {},
     "output_type": "execute_result"
    }
   ],
   "source": [
    "print(\"AUC for train: \")\n",
    "fpr, tpr, thresholds =roc_curve(y_lab,pred_y_f_tr)\n",
    "auc(fpr, tpr) #train"
   ]
  },
  {
   "cell_type": "code",
   "execution_count": 133,
   "metadata": {},
   "outputs": [
    {
     "data": {
      "image/png": "[encoded data removed]",
      "text/plain": [
       "<Figure size 432x288 with 1 Axes>"
      ]
     },
     "metadata": {},
     "output_type": "display_data"
    }
   ],
   "source": [
    "plt.figure()\n",
    "lw = 2\n",
    "plt.plot(fpr, tpr, color='darkorange',lw=lw, label='ROC curve (area = %0.2f)' % roc_auc_score(y_true=y_lab,y_score=pred_y_f_tr))\n",
    "plt.plot([0, 1], [0, 1], color='navy', lw=lw, linestyle='--')\n",
    "plt.xlim([0.0, 1.0])\n",
    "plt.ylim([0.0, 1.05])\n",
    "plt.xlabel('False Positive Rate')\n",
    "plt.ylabel('True Positive Rate')\n",
    "plt.title('ROC Curve')\n",
    "plt.legend(loc=\"lower right\")\n",
    "plt.show()"
   ]
  },
  {
   "cell_type": "code",
   "execution_count": 134,
   "metadata": {},
   "outputs": [
    {
     "name": "stdout",
     "output_type": "stream",
     "text": [
      "CONFUSION MATRIX\n",
      "[[172   6]\n",
      " [  5 101]]\n"
     ]
    }
   ],
   "source": [
    "print(\"CONFUSION MATRIX\")\n",
    "cm4=confusion_matrix(y_lab,pred_y_f_tr)\n",
    "print(cm4)"
   ]
  },
  {
   "cell_type": "markdown",
   "metadata": {},
   "source": [
    "## iii.Unsupervised Learning: Run k-means algorithm on the whole training set. Ignore the labels of the data, and assume k = 2."
   ]
  },
  {
   "cell_type": "code",
   "execution_count": 135,
   "metadata": {},
   "outputs": [],
   "source": [
    "from sklearn.cluster import KMeans\n",
    "from sklearn.metrics import pairwise_distances_argmin_min\n",
    "from sklearn.neighbors import NearestNeighbors\n",
    "from sklearn import preprocessing"
   ]
  },
  {
   "cell_type": "code",
   "execution_count": 136,
   "metadata": {
    "scrolled": true
   },
   "outputs": [],
   "source": [
    "df=pd.read_csv(\"w1.txt\", header=None)"
   ]
  },
  {
   "cell_type": "markdown",
   "metadata": {},
   "source": [
    "### A. Run the k-means algorithm multiple times. Make sure that you initialize the algoritm randomly. How do you make sure that the algorithm was not trapped in a local minimum?\n",
    "### B. Compute the centers of the two clusters and find the closest 30 data points to each center. Read the true labels of those 30 data points and take a majority poll within them. The majority poll becomes the label predicted by k-means for the members of each cluster."
   ]
  },
  {
   "cell_type": "markdown",
   "metadata": {},
   "source": [
    "There are a couple of ways of making sure that the algorithm was not trapped in local minimum. Such as follows:\n",
    "\n",
    "Running the k-means algorithm multiple times and initializing it with different seeds every time will make sure that the algorithm does not get trapped in local minimas as the algorithm will choose the clusters that are compact and far away from each other.\n",
    "Initializing the first points can be done using kmeans++ rather than randomly\n",
    "The centroid values of both the clusters will be quite different from each other, as observd above. This shows that the clusters formed are very dissimilar.\n",
    "The within-ness of the clusters can be a metric that can be evaluated to test local minimas. The intertia value shown above is quite low for the algorithm to be trapped in local minima"
   ]
  },
  {
   "cell_type": "code",
   "execution_count": 137,
   "metadata": {},
   "outputs": [],
   "source": [
    "df_norm=pd.DataFrame(preprocessing.normalize(df.iloc[:,2:]))\n",
    "df_norm[1] = df[1].map( {'M':0, 'B':1} )\n",
    "df_new=df_norm.drop(0,axis=1)\n",
    "#print(df_new)"
   ]
  },
  {
   "cell_type": "code",
   "execution_count": 146,
   "metadata": {},
   "outputs": [
    {
     "name": "stdout",
     "output_type": "stream",
     "text": [
      "[[6.28500964e-01 1.28786098e-04 1.14949187e-04 7.41211993e-05\n",
      "  3.77607610e-05 2.44121617e-04 8.78319516e-05 4.05001382e-04\n",
      "  1.75426125e-03 2.89028002e-03 3.07353906e-02 1.06650309e-05\n",
      "  3.21721339e-05 4.13933716e-05 1.43032069e-05 2.98477746e-05\n",
      "  5.32985199e-06 1.81623161e-02 3.30663265e-02 1.18484019e-01\n",
      "  7.57692343e-01 1.75037987e-04 2.65090577e-04 2.56443403e-04\n",
      "  1.05395169e-04 3.78283566e-04 1.12039766e-04]\n",
      " [5.46160100e-01 7.11213765e-05 9.56390315e-05 9.48060688e-05\n",
      "  5.16597675e-05 1.34466631e-04 4.47352951e-05 3.78866736e-04\n",
      "  8.04277901e-04 2.62676982e-03 4.03008629e-02 4.49263149e-06\n",
      "  2.03133038e-05 2.47005269e-05 9.19011377e-06 1.38498429e-05\n",
      "  2.64907505e-06 1.33441571e-02 2.03778497e-02 8.86337663e-02\n",
      "  8.26299524e-01 1.02852585e-04 2.65367647e-04 2.95656231e-04\n",
      "  1.17507949e-04 2.33352587e-04 6.62670766e-05]]\n",
      "[[6.27539427e-01 1.31163321e-04 1.20842405e-04 7.85336051e-05\n",
      "  3.98934947e-05 2.48030712e-04 8.93360839e-05 4.12633504e-04\n",
      "  1.80011424e-03 2.92909516e-03 3.07572068e-02 1.09903594e-05\n",
      "  3.36241753e-05 4.22128372e-05 1.46630963e-05 3.09475805e-05\n",
      "  5.70714054e-06 1.81870700e-02 3.28361156e-02 1.18759301e-01\n",
      "  7.58460954e-01 1.78028797e-04 2.74238666e-04 2.64204767e-04\n",
      "  1.08168828e-04 3.84193412e-04 1.14306733e-04]\n",
      " [5.44799922e-01 6.92495303e-05 9.30284659e-05 9.20878349e-05\n",
      "  5.10653230e-05 1.29565735e-04 4.32892129e-05 3.80352589e-04\n",
      "  7.72816462e-04 2.62574585e-03 4.11851612e-02 4.40374260e-06\n",
      "  1.93564846e-05 2.36974203e-05 8.94036963e-06 1.31495556e-05\n",
      "  2.55739419e-06 1.31178774e-02 1.95286564e-02 8.69969612e-02\n",
      "  8.27430403e-01 9.95706518e-05 2.52153240e-04 2.82956166e-04\n",
      "  1.14394659e-04 2.22527825e-04 6.36658508e-05]]\n",
      "[[5.44713345e-01 6.78830618e-05 9.07122700e-05 9.13059384e-05\n",
      "  5.07697325e-05 1.27987163e-04 4.25622128e-05 3.63705534e-04\n",
      "  7.69457322e-04 2.52595526e-03 3.91880043e-02 4.25500218e-06\n",
      "  1.88616326e-05 2.29592846e-05 8.56100358e-06 1.26002872e-05\n",
      "  2.51056008e-06 1.30846587e-02 1.97849551e-02 8.69420314e-02\n",
      "  8.27655745e-01 9.79558311e-05 2.46703090e-04 2.78759063e-04\n",
      "  1.12244198e-04 2.20585558e-04 6.29015609e-05]\n",
      " [6.27553609e-01 1.31196576e-04 1.18323161e-04 7.52915110e-05\n",
      "  3.89302733e-05 2.50492124e-04 8.93064870e-05 4.11217334e-04\n",
      "  1.78957170e-03 2.90396034e-03 3.06458282e-02 1.08209399e-05\n",
      "  3.27950333e-05 4.07283718e-05 1.43899755e-05 3.09865449e-05\n",
      "  5.57049673e-06 1.82407963e-02 3.30279950e-02 1.19011929e-01\n",
      "  7.58410459e-01 1.78214952e-04 2.68611454e-04 2.54557852e-04\n",
      "  1.07136308e-04 3.88260128e-04 1.13472035e-04]]\n",
      "[[5.43392710e-01 6.74131645e-05 9.05775041e-05 8.92386982e-05\n",
      "  5.00084049e-05 1.27372214e-04 4.23782183e-05 3.74896746e-04\n",
      "  7.62245662e-04 2.58071180e-03 4.06256301e-02 4.25685414e-06\n",
      "  1.88662389e-05 2.25111930e-05 8.66239689e-06 1.28191649e-05\n",
      "  2.48392983e-06 1.30463152e-02 1.94537609e-02 8.64398246e-02\n",
      "  8.28430241e-01 9.74662647e-05 2.43912872e-04 2.68180123e-04\n",
      "  1.11387920e-04 2.18219139e-04 6.19155226e-05]\n",
      " [6.29035638e-01 1.28378452e-04 1.15527573e-04 7.44608274e-05\n",
      "  3.80491371e-05 2.43242044e-04 8.77293918e-05 4.03583533e-04\n",
      "  1.76609721e-03 2.87720650e-03 3.04570438e-02 1.06195603e-05\n",
      "  3.24015124e-05 4.07489503e-05 1.41878966e-05 3.02510444e-05\n",
      "  5.45103706e-06 1.81098878e-02 3.24999604e-02 1.18267462e-01\n",
      "  7.57437339e-01 1.73771775e-04 2.64098787e-04 2.52381358e-04\n",
      "  1.04425280e-04 3.78381859e-04 1.11472402e-04]]\n",
      "[[5.44621030e-01 6.83628105e-05 9.20203536e-05 9.12975364e-05\n",
      "  5.04819405e-05 1.28154802e-04 4.29331135e-05 3.64401809e-04\n",
      "  7.47044253e-04 2.52018123e-03 3.94842174e-02 4.27678121e-06\n",
      "  1.92467484e-05 2.28885249e-05 8.58464281e-06 1.24360974e-05\n",
      "  2.54465259e-06 1.30679374e-02 1.97703804e-02 8.67225886e-02\n",
      "  8.27614431e-01 9.89422671e-05 2.54699941e-04 2.81124037e-04\n",
      "  1.13730511e-04 2.20413643e-04 6.37359168e-05]\n",
      " [6.27641092e-01 1.28952402e-04 1.15403137e-04 7.30468873e-05\n",
      "  3.86656551e-05 2.43072360e-04 8.75789256e-05 4.09111750e-04\n",
      "  1.78140562e-03 2.87891908e-03 3.09804950e-02 1.07037916e-05\n",
      "  3.20529485e-05 3.88690507e-05 1.41181787e-05 3.00950343e-05\n",
      "  5.51175068e-06 1.81206428e-02 3.30104331e-02 1.18104450e-01\n",
      "  7.58516144e-01 1.75049319e-04 2.61558310e-04 2.44824430e-04\n",
      "  1.05181906e-04 3.77553020e-04 1.11620916e-04]]\n",
      "[[6.27617274e-01 1.30532005e-04 1.17940048e-04 7.58365204e-05\n",
      "  3.86737649e-05 2.46663985e-04 8.92359049e-05 4.14249333e-04\n",
      "  1.79683203e-03 2.95679304e-03 3.10914798e-02 1.08969740e-05\n",
      "  3.34493880e-05 4.22507920e-05 1.46466614e-05 3.02933115e-05\n",
      "  5.75018317e-06 1.81956371e-02 3.31616125e-02 1.18772481e-01\n",
      "  7.58241457e-01 1.77037424e-04 2.67038765e-04 2.56414488e-04\n",
      "  1.06046988e-04 3.80513090e-04 1.13939431e-04]\n",
      " [5.44662019e-01 6.84497895e-05 9.39906791e-05 9.32310396e-05\n",
      "  5.09530560e-05 1.27273373e-04 4.25081798e-05 3.67737165e-04\n",
      "  7.42395998e-04 2.55323030e-03 3.99858206e-02 4.17755074e-06\n",
      "  1.98736090e-05 2.40291409e-05 8.80852492e-06 1.25039450e-05\n",
      "  2.58777249e-06 1.30243277e-02 1.92597862e-02 8.66383332e-02\n",
      "  8.27657500e-01 9.86346549e-05 2.61319890e-04 2.91177440e-04\n",
      "  1.14787546e-04 2.19971922e-04 6.39455787e-05]]\n",
      "[[5.46474540e-01 6.72901204e-05 8.88127939e-05 9.01279682e-05\n",
      "  5.01825237e-05 1.25061407e-04 4.14228432e-05 3.65948429e-04\n",
      "  7.26128004e-04 2.53565307e-03 4.01818987e-02 4.11100349e-06\n",
      "  1.83068018e-05 2.29053027e-05 8.71333050e-06 1.18422309e-05\n",
      "  2.37778035e-06 1.29852641e-02 1.88694174e-02 8.62827308e-02\n",
      "  8.26753147e-01 9.61290487e-05 2.40876578e-04 2.74728792e-04\n",
      "  1.12062440e-04 2.12065210e-04 6.07218945e-05]\n",
      " [6.27515877e-01 1.30608054e-04 1.18606470e-04 7.63203686e-05\n",
      "  3.91954489e-05 2.46849232e-04 8.94697174e-05 4.16867010e-04\n",
      "  1.79664434e-03 2.94769552e-03 3.13608785e-02 1.09551000e-05\n",
      "  3.36343814e-05 4.20384619e-05 1.46547688e-05 3.07383041e-05\n",
      "  5.79206700e-06 1.82020949e-02 3.26272391e-02 1.18709187e-01\n",
      "  7.58442784e-01 1.76904631e-04 2.68902685e-04 2.56016887e-04\n",
      "  1.06807539e-04 3.81393921e-04 1.14024606e-04]]\n",
      "[[6.28243274e-01 1.28302502e-04 1.15780583e-04 7.29314929e-05\n",
      "  3.86833117e-05 2.41334668e-04 8.66749667e-05 3.99939580e-04\n",
      "  1.73024896e-03 2.83993571e-03 3.02213925e-02 1.04845117e-05\n",
      "  3.14592615e-05 3.88401153e-05 1.44119528e-05 2.97314313e-05\n",
      "  5.19131265e-06 1.80603927e-02 3.24744310e-02 1.17882727e-01\n",
      "  7.58308360e-01 1.74390068e-04 2.61448039e-04 2.45055102e-04\n",
      "  1.06242420e-04 3.76768455e-04 1.09843545e-04]\n",
      " [5.43866416e-01 6.67450493e-05 8.62013737e-05 8.54248964e-05\n",
      "  4.87503588e-05 1.24933835e-04 4.15771579e-05 3.66684199e-04\n",
      "  7.57714642e-04 2.53180676e-03 3.96073512e-02 4.20614520e-06\n",
      "  1.73164581e-05 2.15966263e-05 8.33291433e-06 1.21807132e-05\n",
      "  2.34703791e-06 1.29934246e-02 1.94168767e-02 8.60928152e-02\n",
      "  8.28159816e-01 9.61887703e-05 2.32249808e-04 2.61944600e-04\n",
      "  1.08302057e-04 2.12579997e-04 6.05778722e-05]]\n",
      "[[6.28156522e-01 1.30615271e-04 1.19424290e-04 7.72178293e-05\n",
      "  3.92384735e-05 2.47454379e-04 8.89346842e-05 4.10153794e-04\n",
      "  1.76150691e-03 2.91248564e-03 3.07585662e-02 1.08293677e-05\n",
      "  3.29456748e-05 4.23345091e-05 1.46167198e-05 3.06621105e-05\n",
      "  5.56704408e-06 1.81632695e-02 3.27213912e-02 1.18499246e-01\n",
      "  7.58021817e-01 1.76986010e-04 2.69682152e-04 2.58366580e-04\n",
      "  1.06287945e-04 3.83809818e-04 1.13415444e-04]\n",
      " [5.45338815e-01 6.98765343e-05 9.27850916e-05 9.15814350e-05\n",
      "  5.09589956e-05 1.31030223e-04 4.38295442e-05 3.79547314e-04\n",
      "  7.82468439e-04 2.61314009e-03 4.05023839e-02 4.42219730e-06\n",
      "  1.92983324e-05 2.36799477e-05 8.88429748e-06 1.30806086e-05\n",
      "  2.59748931e-06 1.32167914e-02 1.99645857e-02 8.75569287e-02\n",
      "  8.26897241e-01 1.00664461e-04 2.52064122e-04 2.83200876e-04\n",
      "  1.14446298e-04 2.24454971e-04 6.48179362e-05]]\n",
      "[[5.45530141e-01 6.80541679e-05 9.03540208e-05 9.15089912e-05\n",
      "  5.07600839e-05 1.27816381e-04 4.24854636e-05 3.72725487e-04\n",
      "  7.52404290e-04 2.56480494e-03 4.03070897e-02 4.32946057e-06\n",
      "  1.86359282e-05 2.33893301e-05 8.73642649e-06 1.24807745e-05\n",
      "  2.48254467e-06 1.30630142e-02 1.93022874e-02 8.66174005e-02\n",
      "  8.27166626e-01 9.80974385e-05 2.45080845e-04 2.80319146e-04\n",
      "  1.13047774e-04 2.18236708e-04 6.24733245e-05]\n",
      " [6.27515739e-01 1.31556459e-04 1.18583311e-04 7.43481592e-05\n",
      "  3.88404412e-05 2.48322177e-04 8.92277605e-05 4.13511664e-04\n",
      "  1.78970247e-03 2.90404930e-03 3.12378145e-02 1.08976450e-05\n",
      "  3.27637920e-05 4.08941848e-05 1.46204257e-05 3.08853134e-05\n",
      "  5.53014687e-06 1.82284883e-02 3.29763851e-02 1.18743889e-01\n",
      "  7.58399759e-01 1.78719712e-04 2.65280848e-04 2.48816432e-04\n",
      "  1.06869430e-04 3.84756652e-04 1.13113672e-04]]\n"
     ]
    },
    {
     "name": "stdout",
     "output_type": "stream",
     "text": [
      "[[6.28357879e-01 1.30259789e-04 1.16345561e-04 7.14916537e-05\n",
      "  3.82469713e-05 2.45593833e-04 8.81798737e-05 4.00008175e-04\n",
      "  1.74016840e-03 2.84315594e-03 3.04284694e-02 1.08438665e-05\n",
      "  3.12559319e-05 3.68186168e-05 1.38418327e-05 3.00506390e-05\n",
      "  5.28767682e-06 1.81625210e-02 3.30936409e-02 1.18504381e-01\n",
      "  7.57845404e-01 1.77827063e-04 2.64479266e-04 2.45441692e-04\n",
      "  1.05120963e-04 3.81367617e-04 1.12419552e-04]\n",
      " [5.46078173e-01 7.00660534e-05 9.31300022e-05 9.17599515e-05\n",
      "  5.10178005e-05 1.31194397e-04 4.38528432e-05 3.76466146e-04\n",
      "  7.84427675e-04 2.60782452e-03 4.00819383e-02 4.41448283e-06\n",
      "  1.92596476e-05 2.34693273e-05 8.93536961e-06 1.31703388e-05\n",
      "  2.54655307e-06 1.32659947e-02 2.00555330e-02 8.79782913e-02\n",
      "  8.26590429e-01 1.01318067e-04 2.54268180e-04 2.84016035e-04\n",
      "  1.15535856e-04 2.26332837e-04 6.45035057e-05]]\n",
      "[[6.28365651e-01 1.28011704e-04 1.16120503e-04 7.49125305e-05\n",
      "  3.87974875e-05 2.39590988e-04 8.68220284e-05 4.03147371e-04\n",
      "  1.73884013e-03 2.84654150e-03 3.07385335e-02 1.05004046e-05\n",
      "  3.20434885e-05 4.01582668e-05 1.41139523e-05 2.91544381e-05\n",
      "  5.49957812e-06 1.80057070e-02 3.27025899e-02 1.17477864e-01\n",
      "  7.58145843e-01 1.73815459e-04 2.65546880e-04 2.54223499e-04\n",
      "  1.06090484e-04 3.72626996e-04 1.11153335e-04]\n",
      " [5.46362522e-01 6.93892009e-05 9.14948834e-05 9.10423824e-05\n",
      "  5.06029826e-05 1.29727728e-04 4.34257580e-05 3.67283582e-04\n",
      "  7.73511152e-04 2.54312510e-03 3.86978944e-02 4.35383367e-06\n",
      "  1.89365115e-05 2.31482772e-05 8.66313218e-06 1.28830086e-05\n",
      "  2.52901138e-06 1.32258752e-02 2.00624464e-02 8.77164377e-02\n",
      "  8.26409962e-01 1.00081260e-04 2.50777089e-04 2.81805267e-04\n",
      "  1.12944237e-04 2.24295401e-04 6.43089642e-05]]\n",
      "[[6.28308380e-01 1.31913835e-04 1.18817378e-04 7.42149002e-05\n",
      "  3.91661844e-05 2.48277112e-04 8.97576306e-05 4.09969954e-04\n",
      "  1.83039020e-03 2.91594929e-03 3.07393335e-02 1.10885238e-05\n",
      "  3.26910890e-05 3.97661490e-05 1.44787115e-05 3.08626256e-05\n",
      "  5.48714331e-06 1.82507727e-02 3.33218832e-02 1.19052199e-01\n",
      "  7.57610796e-01 1.79304235e-04 2.69517579e-04 2.52553272e-04\n",
      "  1.07230874e-04 3.84654119e-04 1.14479166e-04]\n",
      " [5.44541164e-01 6.80057840e-05 9.05443246e-05 9.02960750e-05\n",
      "  4.97324597e-05 1.27184530e-04 4.25461459e-05 3.56825678e-04\n",
      "  7.38162754e-04 2.46850363e-03 3.87858160e-02 4.12285884e-06\n",
      "  1.89181848e-05 2.31875217e-05 8.51864872e-06 1.24538611e-05\n",
      "  2.49610916e-06 1.30830770e-02 1.95780127e-02 8.68093082e-02\n",
      "  8.27770071e-01 9.84839259e-05 2.55616654e-04 2.88676493e-04\n",
      "  1.13897355e-04 2.22146638e-04 6.38973589e-05]]\n",
      "[[6.28017410e-01 1.29474735e-04 1.17115823e-04 7.53073197e-05\n",
      "  3.94858881e-05 2.41590754e-04 8.76471549e-05 4.08157480e-04\n",
      "  1.70773278e-03 2.90224790e-03 3.10511078e-02 1.07714066e-05\n",
      "  3.27332662e-05 4.11257419e-05 1.45240695e-05 2.94034701e-05\n",
      "  5.54060673e-06 1.80885551e-02 3.25566128e-02 1.18116370e-01\n",
      "  7.58230970e-01 1.76323226e-04 2.66945598e-04 2.55387083e-04\n",
      "  1.07366731e-04 3.76632403e-04 1.12110874e-04]\n",
      " [5.43749687e-01 6.54460240e-05 8.63083977e-05 8.81459666e-05\n",
      "  4.94378517e-05 1.23275517e-04 4.07892226e-05 3.68246397e-04\n",
      "  7.33179490e-04 2.54698215e-03 4.05252379e-02 4.09101134e-06\n",
      "  1.76495919e-05 2.20817262e-05 8.44828075e-06 1.20289803e-05\n",
      "  2.37958865e-06 1.29190287e-02 1.90273421e-02 8.58000036e-02\n",
      "  8.28458381e-01 9.42006086e-05 2.33784390e-04 2.67060680e-04\n",
      "  1.09850335e-04 2.10973296e-04 6.02976800e-05]]\n",
      "[[6.28373153e-01 1.27239176e-04 1.14330966e-04 7.50180941e-05\n",
      "  3.88129235e-05 2.41774251e-04 8.68602666e-05 4.01503622e-04\n",
      "  1.73942454e-03 2.87072418e-03 3.07254400e-02 1.03810251e-05\n",
      "  3.15527320e-05 4.05555695e-05 1.43488058e-05 2.95028928e-05\n",
      "  5.27223320e-06 1.80526644e-02 3.25761660e-02 1.17865289e-01\n",
      "  7.58058700e-01 1.72894523e-04 2.61986665e-04 2.54232207e-04\n",
      "  1.06497222e-04 3.74717720e-04 1.11067546e-04]\n",
      " [5.46548506e-01 6.88893184e-05 9.45468370e-05 9.57492282e-05\n",
      "  5.21780608e-05 1.29214086e-04 4.26370328e-05 3.64322529e-04\n",
      "  7.40758153e-04 2.53108915e-03 3.98552186e-02 4.24841332e-06\n",
      "  2.01623775e-05 2.43692874e-05 9.05202635e-06 1.25368914e-05\n",
      "  2.62149699e-06 1.30700519e-02 1.92117804e-02 8.69349054e-02\n",
      "  8.26503550e-01 9.92800420e-05 2.64172533e-04 2.96659508e-04\n",
      "  1.17544611e-04 2.21514799e-04 6.46147957e-05]]\n",
      "[[6.27955303e-01 1.29429459e-04 1.17897394e-04 7.60738044e-05\n",
      "  3.92342121e-05 2.45531861e-04 8.82457398e-05 4.02256623e-04\n",
      "  1.75191490e-03 2.86746052e-03 3.02435725e-02 1.06269108e-05\n",
      "  3.27701779e-05 4.14321457e-05 1.46456502e-05 3.02340951e-05\n",
      "  5.47834338e-06 1.81808608e-02 3.28723723e-02 1.18760161e-01\n",
      "  7.58202688e-01 1.76191665e-04 2.74113992e-04 2.62141361e-04\n",
      "  1.09680249e-04 3.82678129e-04 1.13099681e-04]\n",
      " [5.43101306e-01 6.61756457e-05 8.86196623e-05 9.08687270e-05\n",
      "  5.01385763e-05 1.22484764e-04 4.08624872e-05 3.62930934e-04\n",
      "  7.30335044e-04 2.50793891e-03 3.99154165e-02 4.10518931e-06\n",
      "  1.85895550e-05 2.32132360e-05 8.54881703e-06 1.19941691e-05\n",
      "  2.42996304e-06 1.28662368e-02 1.87803756e-02 8.53544866e-02\n",
      "  8.28929763e-01 9.52177665e-05 2.42767428e-04 2.79874250e-04\n",
      "  1.11338444e-04 2.11271128e-04 6.10319427e-05]]\n",
      "[[5.47565096e-01 7.38820868e-05 9.79011196e-05 9.59094292e-05\n",
      "  5.21321768e-05 1.38202907e-04 4.63390652e-05 3.77466111e-04\n",
      "  8.30955570e-04 2.61888460e-03 3.94094962e-02 4.76480786e-06\n",
      "  2.05586658e-05 2.47996162e-05 9.21246995e-06 1.41880424e-05\n",
      "  2.77453778e-06 1.34954671e-02 2.08761361e-02 8.96478055e-02\n",
      "  8.25181151e-01 1.06927029e-04 2.69461676e-04 3.00258721e-04\n",
      "  1.18566443e-04 2.40455616e-04 6.90457003e-05]\n",
      " [6.28834541e-01 1.30888149e-04 1.18674910e-04 7.52022367e-05\n",
      "  3.86271163e-05 2.47502637e-04 8.94412494e-05 4.12995314e-04\n",
      "  1.76845457e-03 2.92986700e-03 3.09492692e-02 1.09810188e-05\n",
      "  3.33214441e-05 4.17776207e-05 1.45058635e-05 3.07491296e-05\n",
      "  5.65431365e-06 1.82132884e-02 3.27820418e-02 1.18749234e-01\n",
      "  7.57306103e-01 1.77995675e-04 2.68067496e-04 2.55080381e-04\n",
      "  1.06229051e-04 3.83089800e-04 1.13902248e-04]]\n",
      "[[5.45666591e-01 6.81889801e-05 9.10018140e-05 9.03440441e-05\n",
      "  5.04508182e-05 1.26911138e-04 4.26322480e-05 3.72271791e-04\n",
      "  7.63697508e-04 2.56036420e-03 4.02077511e-02 4.27683957e-06\n",
      "  1.87069630e-05 2.28030866e-05 8.60964262e-06 1.28084355e-05\n",
      "  2.55983356e-06 1.30581229e-02 1.96914166e-02 8.65430623e-02\n",
      "  8.27038467e-01 9.82353792e-05 2.46777920e-04 2.75651368e-04\n",
      "  1.12165396e-04 2.20508855e-04 6.35853027e-05]\n",
      " [6.28420540e-01 1.31010001e-04 1.17980108e-04 7.62093799e-05\n",
      "  3.94449146e-05 2.48037116e-04 8.87411518e-05 4.11384948e-04\n",
      "  1.80372491e-03 2.91885755e-03 3.09923063e-02 1.09365276e-05\n",
      "  3.23326749e-05 4.12889280e-05 1.45581697e-05 3.09553016e-05\n",
      "  5.43370405e-06 1.81811835e-02 3.27485257e-02 1.18582418e-01\n",
      "  7.57751177e-01 1.77804496e-04 2.64696320e-04 2.54760473e-04\n",
      "  1.06128339e-04 3.83750576e-04 1.12762271e-04]]\n",
      "[[6.29106603e-01 1.27698580e-04 1.11814178e-04 6.89449346e-05\n",
      "  3.73525309e-05 2.41321726e-04 8.67076090e-05 4.08968777e-04\n",
      "  1.72396210e-03 2.89984663e-03 3.09227256e-02 1.04808130e-05\n",
      "  3.06003979e-05 3.71943472e-05 1.39266155e-05 2.97539757e-05\n",
      "  5.30684084e-06 1.80852363e-02 3.23774353e-02 1.17913229e-01\n",
      "  7.57445801e-01 1.72157643e-04 2.51296773e-04 2.31753510e-04\n",
      "  1.02527150e-04 3.73576629e-04 1.09571241e-04]\n",
      " [5.48493303e-01 7.21119659e-05 9.15582840e-05 8.97033033e-05\n",
      "  4.99466553e-05 1.35277584e-04 4.51040060e-05 3.69727643e-04\n",
      "  8.03699872e-04 2.55705788e-03 3.87842983e-02 4.57755896e-06\n",
      "  1.85989760e-05 2.31321632e-05 8.80073649e-06 1.32990301e-05\n",
      "  2.53858551e-06 1.34575477e-02 2.06394385e-02 8.91075530e-02\n",
      "  8.24767940e-01 1.03745892e-04 2.47286913e-04 2.81427070e-04\n",
      "  1.13476266e-04 2.32239617e-04 6.59520122e-05]]\n",
      "[[5.44757326e-01 7.14516418e-05 9.38953101e-05 9.29773320e-05\n",
      "  5.11017087e-05 1.33664243e-04 4.47153352e-05 3.72256199e-04\n",
      "  7.76804639e-04 2.55696241e-03 3.91777883e-02 4.43373874e-06\n",
      "  1.91140669e-05 2.37486794e-05 8.81558819e-06 1.31404671e-05\n",
      "  2.60580164e-06 1.33622364e-02 2.02976583e-02 8.85042989e-02\n",
      "  8.27198505e-01 1.03366606e-04 2.58595155e-04 2.93749871e-04\n",
      "  1.16239082e-04 2.30154795e-04 6.65848908e-05]\n",
      " [6.27915787e-01 1.29461406e-04 1.17468930e-04 7.61044693e-05\n",
      "  3.84758045e-05 2.45548256e-04 8.85266816e-05 4.09808397e-04\n",
      "  1.78453680e-03 2.89961880e-03 3.10072451e-02 1.08530745e-05\n",
      "  3.29163120e-05 4.15088115e-05 1.41538660e-05 3.00455239e-05\n",
      "  5.58575788e-06 1.81497334e-02 3.28918259e-02 1.18456322e-01\n",
      "  7.58183408e-01 1.76644148e-04 2.68451043e-04 2.59304913e-04\n",
      "  1.05921020e-04 3.80085723e-04 1.13152231e-04]]\n"
     ]
    },
    {
     "name": "stdout",
     "output_type": "stream",
     "text": [
      "[[5.44888019e-01 6.61863916e-05 9.06611951e-05 9.26975122e-05\n",
      "  5.08145970e-05 1.25543764e-04 4.15203405e-05 3.73867260e-04\n",
      "  7.51089652e-04 2.57408102e-03 4.10196419e-02 4.20811661e-06\n",
      "  1.92039982e-05 2.36772389e-05 8.68329422e-06 1.23578111e-05\n",
      "  2.53759877e-06 1.29304524e-02 1.91785369e-02 8.57277208e-02\n",
      "  8.27594383e-01 9.53367321e-05 2.46186327e-04 2.81167799e-04\n",
      "  1.11638812e-04 2.14809049e-04 6.19266699e-05]\n",
      " [6.28382960e-01 1.29686061e-04 1.16706275e-04 7.36346311e-05\n",
      "  3.90025685e-05 2.45146434e-04 8.82767052e-05 4.12286708e-04\n",
      "  1.80230472e-03 2.92962630e-03 3.11018542e-02 1.09090475e-05\n",
      "  3.24288689e-05 3.90673883e-05 1.43708553e-05 3.02184746e-05\n",
      "  5.56152003e-06 1.81368636e-02 3.29222378e-02 1.18352379e-01\n",
      "  7.57797467e-01 1.76111228e-04 2.63731950e-04 2.44784149e-04\n",
      "  1.05453356e-04 3.78493963e-04 1.12187131e-04]]\n",
      "[[5.44773877e-01 6.81830746e-05 9.12985768e-05 9.27780911e-05\n",
      "  5.15691566e-05 1.27732376e-04 4.24210916e-05 3.69419918e-04\n",
      "  7.57712606e-04 2.54447948e-03 4.00678040e-02 4.33480028e-06\n",
      "  1.89317315e-05 2.31909995e-05 8.84805458e-06 1.26280410e-05\n",
      "  2.51910213e-06 1.30994024e-02 1.97603440e-02 8.68252929e-02\n",
      "  8.27641548e-01 9.88764627e-05 2.46959367e-04 2.79923651e-04\n",
      "  1.14705141e-04 2.19556975e-04 6.25920071e-05]\n",
      " [6.28708676e-01 1.29177350e-04 1.16500669e-04 7.43844890e-05\n",
      "  3.87072987e-05 2.43718384e-04 8.81724575e-05 4.12391000e-04\n",
      "  1.78871864e-03 2.93039368e-03 3.11762010e-02 1.06992930e-05\n",
      "  3.27047522e-05 4.09015702e-05 1.44789045e-05 3.04860797e-05\n",
      "  5.52111180e-06 1.81178141e-02 3.26229674e-02 1.18213026e-01\n",
      "  7.57593076e-01 1.74455877e-04 2.63155789e-04 2.48876786e-04\n",
      "  1.05510649e-04 3.77831071e-04 1.11692299e-04]]\n",
      "[[6.27210650e-01 1.29944530e-04 1.20102982e-04 7.82849291e-05\n",
      "  4.02007125e-05 2.43280044e-04 8.82481990e-05 4.04064481e-04\n",
      "  1.73018164e-03 2.87590337e-03 3.06614704e-02 1.06581098e-05\n",
      "  3.35706960e-05 4.21936624e-05 1.48008719e-05 2.94708412e-05\n",
      "  5.62391051e-06 1.81022685e-02 3.23668398e-02 1.18278496e-01\n",
      "  7.58912360e-01 1.76579285e-04 2.74798866e-04 2.62684866e-04\n",
      "  1.09762126e-04 3.77475247e-04 1.13053336e-04]\n",
      " [5.40911946e-01 6.75985045e-05 8.77101616e-05 8.81149927e-05\n",
      "  4.96848289e-05 1.26193323e-04 4.22219000e-05 3.68348288e-04\n",
      "  7.62968125e-04 2.53247038e-03 3.98384435e-02 4.23012051e-06\n",
      "  1.76911362e-05 2.21890575e-05 8.41042380e-06 1.21484812e-05\n",
      "  2.41809998e-06 1.31006383e-02 1.97463538e-02 8.66805650e-02\n",
      "  8.30112602e-01 9.73206564e-05 2.36362684e-04 2.69004695e-04\n",
      "  1.10895682e-04 2.16178490e-04 6.20602028e-05]]\n",
      "[[6.28046424e-01 1.30262349e-04 1.15920047e-04 7.37874341e-05\n",
      "  3.84116933e-05 2.45653075e-04 8.86032353e-05 4.13384963e-04\n",
      "  1.80283958e-03 2.90532139e-03 3.12242468e-02 1.08303926e-05\n",
      "  3.20051773e-05 4.02523125e-05 1.42857754e-05 3.10357554e-05\n",
      "  5.41978329e-06 1.81808054e-02 3.30528648e-02 1.18481138e-01\n",
      "  7.57982171e-01 1.76978540e-04 2.62029745e-04 2.50156132e-04\n",
      "  1.05110567e-04 3.82852564e-04 1.12212444e-04]\n",
      " [5.46196523e-01 6.90587171e-05 9.23969732e-05 9.23794202e-05\n",
      "  5.10066577e-05 1.29598724e-04 4.34844179e-05 3.69574993e-04\n",
      "  7.69348887e-04 2.55536588e-03 3.95098187e-02 4.38204443e-06\n",
      "  1.92013629e-05 2.35624536e-05 8.74356141e-06 1.28391037e-05\n",
      "  2.59365516e-06 1.31713008e-02 1.99985803e-02 8.73690616e-02\n",
      "  8.26621225e-01 1.00500975e-04 2.56275035e-04 2.87811947e-04\n",
      "  1.14744951e-04 2.24623002e-04 6.52326722e-05]]\n",
      "[[5.45104620e-01 6.71399183e-05 9.00038390e-05 8.95715708e-05\n",
      "  4.98792056e-05 1.26569506e-04 4.20381801e-05 3.67291353e-04\n",
      "  7.41706383e-04 2.53012149e-03 4.00608987e-02 4.21565829e-06\n",
      "  1.90424875e-05 2.28646475e-05 8.59438669e-06 1.27118987e-05\n",
      "  2.47836722e-06 1.30337601e-02 1.92516422e-02 8.64288194e-02\n",
      "  8.27306237e-01 9.66292569e-05 2.46233853e-04 2.76608962e-04\n",
      "  1.11084991e-04 2.19267780e-04 6.21292842e-05]\n",
      " [6.28574221e-01 1.30025396e-04 1.18242600e-04 7.56213103e-05\n",
      "  3.92107948e-05 2.45335102e-04 8.86756634e-05 4.16289216e-04\n",
      "  1.79189368e-03 2.95554603e-03 3.14575723e-02 1.09731373e-05\n",
      "  3.35505491e-05 4.18475158e-05 1.48076481e-05 3.04262076e-05\n",
      "  5.60793889e-06 1.81622209e-02 3.28021227e-02 1.18491554e-01\n",
      "  7.57560900e-01 1.76639781e-04 2.65443723e-04 2.49985505e-04\n",
      "  1.05630489e-04 3.78992963e-04 1.12476097e-04]]\n",
      "[[5.42680365e-01 6.82975475e-05 9.08540041e-05 8.98894656e-05\n",
      "  4.94088894e-05 1.28059191e-04 4.29726172e-05 3.66017886e-04\n",
      "  7.67285063e-04 2.52159301e-03 3.94637501e-02 4.25421443e-06\n",
      "  1.87356104e-05 2.31256798e-05 8.54005282e-06 1.28065329e-05\n",
      "  2.49582400e-06 1.31341380e-02 1.98284093e-02 8.70939011e-02\n",
      "  8.28774769e-01 9.91001400e-05 2.54255250e-04 2.84575560e-04\n",
      "  1.13055866e-04 2.23366554e-04 6.41498861e-05]\n",
      " [6.27919410e-01 1.28456650e-04 1.17589072e-04 7.64732037e-05\n",
      "  3.92869981e-05 2.42989632e-04 8.76760938e-05 4.05888832e-04\n",
      "  1.74293218e-03 2.88650724e-03 3.08964196e-02 1.05682254e-05\n",
      "  3.31829399e-05 4.18897244e-05 1.46811716e-05 2.98660018e-05\n",
      "  5.61955281e-06 1.80638871e-02 3.25681103e-02 1.17884164e-01\n",
      "  7.58385930e-01 1.74158173e-04 2.68267906e-04 2.57051922e-04\n",
      "  1.08013831e-04 3.77620075e-04 1.12252198e-04]]\n",
      "[[5.41822749e-01 6.59022631e-05 8.82336496e-05 9.10292896e-05\n",
      "  5.09155124e-05 1.22923748e-04 4.03556685e-05 3.62918322e-04\n",
      "  7.20628128e-04 2.51211312e-03 3.97928914e-02 4.12139058e-06\n",
      "  1.85518428e-05 2.24993119e-05 8.73531807e-06 1.19418445e-05\n",
      "  2.38131270e-06 1.28648148e-02 1.86328068e-02 8.54822132e-02\n",
      "  8.29789488e-01 9.50653977e-05 2.41154464e-04 2.72414136e-04\n",
      "  1.13052472e-04 2.10958420e-04 5.98035144e-05]\n",
      " [6.27787274e-01 1.30869505e-04 1.18836872e-04 7.68589533e-05\n",
      "  3.93705962e-05 2.45834255e-04 8.88611612e-05 4.00704112e-04\n",
      "  1.74871497e-03 2.85433712e-03 3.01222177e-02 1.07393243e-05\n",
      "  3.25374254e-05 4.18834252e-05 1.45184314e-05 2.95237988e-05\n",
      "  5.44758828e-06 1.82035000e-02 3.31404637e-02 1.18822325e-01\n",
      "  7.58284591e-01 1.78853931e-04 2.74080147e-04 2.63141799e-04\n",
      "  1.08517997e-04 3.82281142e-04 1.14065670e-04]]\n",
      "[[6.27973492e-01 1.29366991e-04 1.17412805e-04 7.57800825e-05\n",
      "  3.89859151e-05 2.42979048e-04 8.77711520e-05 4.04768394e-04\n",
      "  1.70537011e-03 2.88475410e-03 3.06624556e-02 1.05582147e-05\n",
      "  3.22562641e-05 4.09336916e-05 1.42372100e-05 2.96309542e-05\n",
      "  5.52687158e-06 1.80812514e-02 3.25407823e-02 1.18031171e-01\n",
      "  7.58293394e-01 1.75432757e-04 2.66865529e-04 2.55604986e-04\n",
      "  1.07118073e-04 3.77036167e-04 1.12171550e-04]\n",
      " [5.42553070e-01 6.69052540e-05 8.76676659e-05 8.86089598e-05\n",
      "  4.97889267e-05 1.24529980e-04 4.14058542e-05 3.61304843e-04\n",
      "  7.42376383e-04 2.49053513e-03 3.94758674e-02 4.16336387e-06\n",
      "  1.80795925e-05 2.25237511e-05 8.59293041e-06 1.20063086e-05\n",
      "  2.44089006e-06 1.29735084e-02 1.91484580e-02 8.59495593e-02\n",
      "  8.29219890e-01 9.66401266e-05 2.37389686e-04 2.72507605e-04\n",
      "  1.11927544e-04 2.14221195e-04 6.15765713e-05]]\n",
      "[[6.28353140e-01 1.30406752e-04 1.17515153e-04 7.39457057e-05\n",
      "  3.87216538e-05 2.45791823e-04 8.88647291e-05 4.16823994e-04\n",
      "  1.81266041e-03 2.94977554e-03 3.10970762e-02 1.10035972e-05\n",
      "  3.28903985e-05 4.03613316e-05 1.46115364e-05 2.99484708e-05\n",
      "  5.67045675e-06 1.82233998e-02 3.32042720e-02 1.18774880e-01\n",
      "  7.57724637e-01 1.77024389e-04 2.61918699e-04 2.43137875e-04\n",
      "  1.04494307e-04 3.76014101e-04 1.12673663e-04]\n",
      " [5.45450223e-01 7.09021815e-05 9.35956442e-05 9.08326429e-05\n",
      "  5.04059398e-05 1.33557596e-04 4.46940586e-05 3.68615763e-04\n",
      "  7.99897267e-04 2.53848951e-03 3.90596559e-02 4.47768249e-06\n",
      "  1.94815876e-05 2.36955115e-05 8.85677120e-06 1.28147613e-05\n",
      "  2.63504626e-06 1.33840445e-02 2.05790901e-02 8.86792295e-02\n",
      "  8.26795604e-01 1.02808274e-04 2.60792937e-04 2.89883304e-04\n",
      "  1.15401782e-04 2.28922007e-04 6.65797592e-05]]\n",
      "[[5.44828540e-01 6.88285885e-05 9.06488133e-05 9.14194590e-05\n",
      "  5.04982252e-05 1.27874081e-04 4.27805193e-05 3.61720748e-04\n",
      "  7.54074074e-04 2.48634908e-03 3.88556059e-02 4.29155541e-06\n",
      "  1.91024490e-05 2.34195447e-05 8.72946129e-06 1.27505449e-05\n",
      "  2.52863966e-06 1.31247314e-02 1.96650584e-02 8.69644832e-02\n",
      "  8.27586116e-01 9.96711628e-05 2.52911502e-04 2.86223309e-04\n",
      "  1.14498631e-04 2.21243993e-04 6.38189525e-05]\n",
      " [6.28002755e-01 1.30063499e-04 1.16032073e-04 7.49232276e-05\n",
      "  3.84110532e-05 2.44046878e-04 8.84758924e-05 4.07429704e-04\n",
      "  1.77422853e-03 2.89563537e-03 3.07865360e-02 1.06437948e-05\n",
      "  3.27617010e-05 4.16260095e-05 1.43986386e-05 2.97624671e-05\n",
      "  5.53609837e-06 1.81641372e-02 3.30834435e-02 1.18511207e-01\n",
      "  7.58046968e-01 1.76572957e-04 2.66342037e-04 2.57085252e-04\n",
      "  1.06082722e-04 3.77872913e-04 1.12918759e-04]]\n"
     ]
    }
   ],
   "source": [
    "ps=[]\n",
    "rs=[]\n",
    "acs=[]\n",
    "fs=[]\n",
    "AUC=[]\n",
    "\n",
    "ps_tr=[]\n",
    "rs_tr=[]\n",
    "acs_tr=[]\n",
    "fs_tr=[]\n",
    "AUC_tr=[]\n",
    "for M in range(0,30):\n",
    "    train_df=pd.DataFrame()\n",
    "    test_df=pd.DataFrame()\n",
    "    train_x=pd.DataFrame()\n",
    "    train_y=pd.DataFrame()\n",
    "    pred_y_tr=pd.DataFrame()\n",
    "    mal_df=df_new[df_new[1]==0]\n",
    "    \n",
    "    ben_df=df_new[df_new[1]==1]\n",
    "    test_df=mal_df.sample(frac=0.2).append(ben_df.sample(frac=0.2))\n",
    "    #print(test_df)\n",
    "    index_todrop = test_df.index\n",
    "    train_df=df_new.drop(index = index_todrop)\n",
    "    \n",
    "    train_y=train_df.loc[:,1]\n",
    "    #print(test_df)\n",
    "    #print(train_y)\n",
    "    train_x=train_df.iloc[:,2:]\n",
    "    test_y=test_df.loc[:,1]\n",
    "    test_x=test_df.iloc[:,2:]\n",
    "    #print(test_x,test_y)\n",
    "    \n",
    "    train_x=train_x.reset_index(drop=True)\n",
    "    train_y=train_y.reset_index(drop=True)\n",
    "    test_x=test_x.reset_index(drop=True)\n",
    "    test_y=test_y.reset_index(drop=True)\n",
    "    kmeans=KMeans(n_clusters=2,init='k-means++',n_init=5,random_state=random.randint(0,100)).fit(train_x)\n",
    "    neigh = NearestNeighbors(n_neighbors=30,algorithm='brute').fit(train_x)\n",
    "    distances, indices = neigh.kneighbors(kmeans.cluster_centers_)\n",
    "    print(kmeans.cluster_centers_)                                                                                            \n",
    "    cluster0=train_y.loc[indices[0]]\n",
    "    poll=cluster0.value_counts()\n",
    "\n",
    "\n",
    "    cluster1=train_y.loc[indices[1]]\n",
    "    cluster1.value_counts()\n",
    "\n",
    "    pred_y_tr = kmeans.labels_\n",
    "    #print(pred_y_tr)\n",
    "    #print(train_y)\n",
    "    ps_tr.append(precision_score(train_y, pred_y_tr))\n",
    "    rs_tr.append(recall_score(train_y, pred_y_tr))\n",
    "    acs_tr.append(accuracy_score(train_y, pred_y_tr)) \n",
    "    fs_tr.append(f1_score(train_y, pred_y_tr))\n",
    "    fpr_tr, tpr_tr, _ = roc_curve(train_y,pred_y_tr)\n",
    "    AUC_tr.append(auc(fpr_tr, tpr_tr))\n",
    "    \n",
    "    pred_y = kmeans.predict(test_x)\n",
    "    ps.append(precision_score(test_y, pred_y))\n",
    "    rs.append(recall_score(test_y, pred_y))\n",
    "    acs.append(accuracy_score(test_y, pred_y)) \n",
    "    fs.append(f1_score(test_y, pred_y))\n",
    "    fpr, tpr, _ = roc_curve(test_y,pred_y)\n",
    "    AUC.append(auc(fpr, tpr))"
   ]
  },
  {
   "cell_type": "markdown",
   "metadata": {},
   "source": [
    "### For TRAIN"
   ]
  },
  {
   "cell_type": "code",
   "execution_count": 174,
   "metadata": {},
   "outputs": [
    {
     "name": "stdout",
     "output_type": "stream",
     "text": [
      "For Train:\n",
      "Average Precision Score =  0.5564850101626017\n",
      "Average Recall Score =  0.4245920745920746\n",
      "Average Accuracy =  0.4638888888888889\n",
      "Average F1 score =  0.9025663547273011\n",
      "Average AUC =  0.8328303152246814\n"
     ]
    }
   ],
   "source": [
    "print(\"For Train:\")    \n",
    "p1=statistics.mean(ps_tr)    \n",
    "print(\"Average Precision Score = \",p1)\n",
    "r1=statistics.mean(rs_tr)\n",
    "print(\"Average Recall Score = \",r1)\n",
    "sc1=statistics.mean(acs_tr)\n",
    "print(\"Average Accuracy = \",sc1)\n",
    "f2=statistics.mean(fs)\n",
    "print(\"Average F1 score = \",f2)\n",
    "a1=statistics.mean(AUC)\n",
    "print(\"Average AUC = \",a1)"
   ]
  },
  {
   "cell_type": "code",
   "execution_count": 147,
   "metadata": {},
   "outputs": [
    {
     "data": {
      "text/plain": [
       "0.959561161755353"
      ]
     },
     "execution_count": 147,
     "metadata": {},
     "output_type": "execute_result"
    }
   ],
   "source": [
    "fpr, tpr, thresholds =roc_curve(y_lab,pred_y_f_tr)\n",
    "auc(fpr, tpr) #train"
   ]
  },
  {
   "cell_type": "code",
   "execution_count": 148,
   "metadata": {},
   "outputs": [
    {
     "data": {
      "image/png": "[encoded data removed]",
      "text/plain": [
       "<Figure size 432x288 with 1 Axes>"
      ]
     },
     "metadata": {},
     "output_type": "display_data"
    }
   ],
   "source": [
    "plt.figure()\n",
    "lw = 2\n",
    "plt.plot(fpr, tpr, color='darkorange',lw=lw, label='ROC curve (area = %0.2f)' % roc_auc_score(y_true=y_lab,y_score=pred_y_f_tr))\n",
    "plt.plot([0, 1], [0, 1], color='navy', lw=lw, linestyle='--')\n",
    "plt.xlim([0.0, 1.0])\n",
    "plt.ylim([0.0, 1.05])\n",
    "plt.xlabel('False Positive Rate')\n",
    "plt.ylabel('True Positive Rate')\n",
    "plt.title('ROC Curve')\n",
    "plt.legend(loc=\"lower right\")\n",
    "plt.show()"
   ]
  },
  {
   "cell_type": "markdown",
   "metadata": {},
   "source": [
    "### Confusion matrix for TRAIN"
   ]
  },
  {
   "cell_type": "code",
   "execution_count": 149,
   "metadata": {},
   "outputs": [
    {
     "name": "stdout",
     "output_type": "stream",
     "text": [
      "[[172   6]\n",
      " [  5 101]]\n"
     ]
    }
   ],
   "source": [
    "cm5=confusion_matrix(y_lab,pred_y_f_tr)\n",
    "print(cm5)"
   ]
  },
  {
   "cell_type": "markdown",
   "metadata": {},
   "source": [
    "### For TEST"
   ]
  },
  {
   "cell_type": "code",
   "execution_count": 175,
   "metadata": {},
   "outputs": [
    {
     "name": "stdout",
     "output_type": "stream",
     "text": [
      "For Test:\n",
      "Average Precision Score =  0.84415461524344\n",
      "Average Recall Score =  0.9704225352112676\n",
      "Average Accuracy =  0.868141592920354\n",
      "Average F1 score =  0.9025663547273011\n",
      "Average AUC =  0.8328303152246814\n"
     ]
    }
   ],
   "source": [
    "print(\"For Test:\")    \n",
    "p1=statistics.mean(ps)    \n",
    "print(\"Average Precision Score = \",p1)\n",
    "r1=statistics.mean(rs)\n",
    "print(\"Average Recall Score = \",r1)\n",
    "sc1=statistics.mean(acs)\n",
    "print(\"Average Accuracy = \",sc1)\n",
    "f2=statistics.mean(fs)\n",
    "print(\"Average F1 score = \",f2)\n",
    "a1=statistics.mean(AUC)\n",
    "print(\"Average AUC = \",a1)"
   ]
  },
  {
   "cell_type": "code",
   "execution_count": 150,
   "metadata": {},
   "outputs": [
    {
     "data": {
      "text/plain": [
       "0.8381958417169685"
      ]
     },
     "execution_count": 150,
     "metadata": {},
     "output_type": "execute_result"
    }
   ],
   "source": [
    "fpr, tpr, thresholds =roc_curve(test_y,pred_y)\n",
    "auc(fpr, tpr)"
   ]
  },
  {
   "cell_type": "code",
   "execution_count": 151,
   "metadata": {},
   "outputs": [
    {
     "data": {
      "image/png": "[encoded data removed]",
      "text/plain": [
       "<Figure size 432x288 with 1 Axes>"
      ]
     },
     "metadata": {},
     "output_type": "display_data"
    }
   ],
   "source": [
    "plt.figure()\n",
    "lw = 2\n",
    "plt.plot(fpr, tpr, color='darkorange',lw=lw, label='ROC curve (area = %0.2f)' % roc_auc_score(y_true=test_y,y_score=pred_y))\n",
    "plt.plot([0, 1], [0, 1], color='navy', lw=lw, linestyle='--')\n",
    "plt.xlim([0.0, 1.0])\n",
    "plt.ylim([0.0, 1.05])\n",
    "plt.xlabel('False Positive Rate')\n",
    "plt.ylabel('True Positive Rate')\n",
    "plt.title('ROC Curve')\n",
    "plt.legend(loc=\"lower right\")\n",
    "plt.show()"
   ]
  },
  {
   "cell_type": "code",
   "execution_count": 152,
   "metadata": {},
   "outputs": [
    {
     "data": {
      "text/plain": [
       "Text(33,0.5,'Actual')"
      ]
     },
     "execution_count": 152,
     "metadata": {},
     "output_type": "execute_result"
    },
    {
     "data": {
      "image/png": "[encoded data removed]",
      "text/plain": [
       "<Figure size 432x288 with 2 Axes>"
      ]
     },
     "metadata": {},
     "output_type": "display_data"
    }
   ],
   "source": [
    "cm4=confusion_matrix(test_y,pred_y)\n",
    "sns.heatmap(cm4,annot=True,cmap='YlGnBu')\n",
    "plt.xlabel('Predicted')\n",
    "plt.ylabel('Actual')"
   ]
  },
  {
   "cell_type": "markdown",
   "metadata": {},
   "source": [
    "### iv. Spectral Clustering: Repeat 1(b)iii using spectral clustering, which is clustering based on kernels.\n",
    "\n",
    "In multivariate statistics and the clustering of data, spectral clustering techniques make use of the spectrum (eigenvalues) of the similarity matrix of the data to perform dimensionality reduction before clustering in fewer dimensions. The similarity matrix is provided as an input and consists of a quantitative assessment of the relative similarity of each pair of points in the dataset."
   ]
  },
  {
   "cell_type": "code",
   "execution_count": 167,
   "metadata": {},
   "outputs": [
    {
     "name": "stdout",
     "output_type": "stream",
     "text": [
      "         3         4         5         6         7         8         9   \\\n",
      "0  0.628746  0.000131  0.000119  0.000076  0.000039  0.000246  0.000089   \n",
      "1  0.546711  0.000070  0.000093  0.000090  0.000050  0.000132  0.000044   \n",
      "\n",
      "         10        11        12    ...           20        21        22  \\\n",
      "0  0.000408  0.001802  0.002902    ...     0.018168  0.032991  0.118637   \n",
      "1  0.000372  0.000788  0.002572    ...     0.013205  0.019980  0.087563   \n",
      "\n",
      "         23        24        25        26        27        28        29  \n",
      "0  0.757527  0.000177  0.000268  0.000255  0.000107  0.000380  0.000113  \n",
      "1  0.826044  0.000101  0.000257  0.000283  0.000114  0.000229  0.000065  \n",
      "\n",
      "[2 rows x 27 columns]\n",
      "         3         4         5         6         7         8         9   \\\n",
      "0  0.627565  0.000129  0.000118  0.000078  0.000040  0.000243  0.000088   \n",
      "1  0.540009  0.000071  0.000096  0.000095  0.000052  0.000134  0.000045   \n",
      "\n",
      "         10        11        12    ...           20        21        22  \\\n",
      "0  0.000409  0.001794  0.002897    ...     0.018083  0.032921  0.118022   \n",
      "1  0.000370  0.000778  0.002574    ...     0.013343  0.020326  0.088662   \n",
      "\n",
      "         23        24       25        26        27        28        29  \n",
      "0  0.758622  0.000175  0.00027  0.000262  0.000108  0.000377  0.000112  \n",
      "1  0.830251  0.000104  0.00027  0.000299  0.000119  0.000235  0.000067  \n",
      "\n",
      "[2 rows x 27 columns]\n",
      "         3         4         5         6         7         8         9   \\\n",
      "0  0.627707  0.000130  0.000116  0.000074  0.000038  0.000245  0.000088   \n",
      "1  0.545037  0.000068  0.000091  0.000092  0.000051  0.000128  0.000042   \n",
      "\n",
      "         10        11        12    ...           20        21        22  \\\n",
      "0  0.000411  0.001788  0.002892    ...     0.018138  0.032949  0.118193   \n",
      "1  0.000364  0.000753  0.002534    ...     0.013050  0.019567  0.086784   \n",
      "\n",
      "         23        24        25        26        27        28        29  \n",
      "0  0.758359  0.000177  0.000262  0.000251  0.000106  0.000381  0.000113  \n",
      "1  0.827457  0.000098  0.000250  0.000282  0.000114  0.000222  0.000063  \n",
      "\n",
      "[2 rows x 27 columns]\n",
      "         3         4         5         6         7         8         9   \\\n",
      "0  0.542950  0.000069  0.000092  0.000090  0.000050  0.000130  0.000044   \n",
      "1  0.628545  0.000131  0.000116  0.000073  0.000039  0.000245  0.000089   \n",
      "\n",
      "         10        11        12    ...           20        21        22  \\\n",
      "0  0.000375  0.000763  0.002571    ...     0.013219  0.019826  0.087478   \n",
      "1  0.000410  0.001790  0.002890    ...     0.018184  0.032885  0.118560   \n",
      "\n",
      "         23        24        25        26        27        28        29  \n",
      "0  0.828595  0.000100  0.000256  0.000282  0.000114  0.000226  0.000065  \n",
      "1  0.757608  0.000178  0.000264  0.000250  0.000106  0.000381  0.000113  \n",
      "\n",
      "[2 rows x 27 columns]\n",
      "         3         4         5         6         7         8         9   \\\n",
      "0  0.627037  0.000130  0.000117  0.000075  0.000039  0.000245  0.000089   \n",
      "1  0.545969  0.000068  0.000091  0.000090  0.000051  0.000128  0.000043   \n",
      "\n",
      "         10        11        12    ...           20        21        22  \\\n",
      "0  0.000412  0.001838  0.002930    ...     0.018181  0.033518  0.118603   \n",
      "1  0.000368  0.000732  0.002534    ...     0.013110  0.019361  0.086964   \n",
      "\n",
      "         23        24        25        26        27        28        29  \n",
      "0  0.758868  0.000178  0.000267  0.000256  0.000107  0.000381  0.000113  \n",
      "1  0.827042  0.000098  0.000244  0.000274  0.000113  0.000222  0.000063  \n",
      "\n",
      "[2 rows x 27 columns]\n",
      "         3         4         5         6         7         8         9   \\\n",
      "0  0.543989  0.000070  0.000092  0.000092  0.000051  0.000132  0.000044   \n",
      "1  0.627512  0.000129  0.000117  0.000076  0.000039  0.000245  0.000088   \n",
      "\n",
      "         10        11        12    ...           20        21        22  \\\n",
      "0  0.000375  0.000781  0.002605    ...     0.013286  0.020006  0.088345   \n",
      "1  0.000414  0.001794  0.002944    ...     0.018111  0.032805  0.118218   \n",
      "\n",
      "         23        24        25        26        27        28        29  \n",
      "0  0.827926  0.000101  0.000254  0.000288  0.000116  0.000228  0.000065  \n",
      "1  0.758585  0.000175  0.000264  0.000255  0.000107  0.000377  0.000112  \n",
      "\n",
      "[2 rows x 27 columns]\n",
      "         3         4         5         6         7         8         9   \\\n",
      "0  0.628178  0.000127  0.000113  0.000074  0.000038  0.000241  0.000086   \n",
      "1  0.541359  0.000070  0.000093  0.000092  0.000050  0.000132  0.000044   \n",
      "\n",
      "         10        11        12    ...           20        21        22  \\\n",
      "0  0.000405  0.001733  0.002858    ...     0.017954  0.031999  0.117045   \n",
      "1  0.000375  0.000790  0.002581    ...     0.013268  0.020241  0.087963   \n",
      "\n",
      "         23        24        25        26        27        28        29  \n",
      "0  0.758443  0.000172  0.000256  0.000247  0.000106  0.000374  0.000109  \n",
      "1  0.829523  0.000102  0.000260  0.000292  0.000115  0.000230  0.000066  \n",
      "\n",
      "[2 rows x 27 columns]\n",
      "         3         4         5         6         7         8         9   \\\n",
      "0  0.628769  0.000127  0.000114  0.000074  0.000039  0.000239  0.000087   \n",
      "1  0.546158  0.000071  0.000095  0.000094  0.000051  0.000132  0.000044   \n",
      "\n",
      "         10        11        12    ...           20        21        22  \\\n",
      "0  0.000401  0.001725  0.002832    ...     0.018012  0.032309  0.117392   \n",
      "1  0.000368  0.000754  0.002534    ...     0.013265  0.019844  0.087996   \n",
      "\n",
      "         23        24        25        26        27        28        29  \n",
      "0  0.757852  0.000173  0.000258  0.000247  0.000105  0.000370  0.000110  \n",
      "1  0.826467  0.000103  0.000264  0.000295  0.000118  0.000229  0.000066  \n",
      "\n",
      "[2 rows x 27 columns]\n",
      "         3         4         5         6         7         8         9   \\\n",
      "0  0.628179  0.000131  0.000115  0.000073  0.000038  0.000246  0.000089   \n",
      "1  0.542959  0.000069  0.000092  0.000091  0.000050  0.000129  0.000043   \n",
      "\n",
      "         10        11        12    ...           20        21       22  \\\n",
      "0  0.000416  0.001803  0.002968    ...     0.018238  0.032981  0.11905   \n",
      "1  0.000370  0.000765  0.002564    ...     0.013154  0.019765  0.08737   \n",
      "\n",
      "         23        24        25        26        27        28        29  \n",
      "0  0.757779  0.000177  0.000258  0.000242  0.000104  0.000380  0.000113  \n",
      "1  0.828627  0.000099  0.000256  0.000286  0.000114  0.000224  0.000064  \n",
      "\n",
      "[2 rows x 27 columns]\n",
      "         3         4         5         6         7         8         9   \\\n",
      "0  0.628165  0.000130  0.000116  0.000072  0.000038  0.000245  0.000089   \n",
      "1  0.543949  0.000071  0.000095  0.000095  0.000052  0.000133  0.000044   \n",
      "\n",
      "         10        11        12    ...           20        21        22  \\\n",
      "0  0.000416  0.001802  0.002937    ...     0.018189  0.033010  0.118508   \n",
      "1  0.000376  0.000782  0.002597    ...     0.013251  0.020129  0.087940   \n",
      "\n",
      "         23        24        25        26        27       28        29  \n",
      "0  0.757883  0.000176  0.000259  0.000238  0.000102  0.00038  0.000112  \n",
      "1  0.827759  0.000102  0.000259  0.000290  0.000117  0.00023  0.000065  \n",
      "\n",
      "[2 rows x 27 columns]\n",
      "         3         4         5         6         7         8         9   \\\n",
      "0  0.628810  0.000130  0.000117  0.000074  0.000039  0.000245  0.000088   \n",
      "1  0.545644  0.000069  0.000095  0.000096  0.000052  0.000130  0.000043   \n",
      "\n",
      "         10        11        12    ...           20        21        22  \\\n",
      "0  0.000413  0.001759  0.002920    ...     0.018133  0.032475  0.118296   \n",
      "1  0.000369  0.000765  0.002549    ...     0.013100  0.019432  0.087032   \n",
      "\n",
      "         23        24        25        26        27        28        29  \n",
      "0  0.757566  0.000176  0.000262  0.000247  0.000104  0.000377  0.000111  \n",
      "1  0.827235  0.000100  0.000264  0.000295  0.000117  0.000225  0.000065  \n",
      "\n",
      "[2 rows x 27 columns]\n",
      "         3         4         5         6         7         8         9   \\\n",
      "0  0.628703  0.000131  0.000117  0.000075  0.000039  0.000246  0.000089   \n",
      "1  0.550214  0.000073  0.000096  0.000092  0.000051  0.000137  0.000046   \n",
      "\n",
      "         10        11        12    ...           20        21        22  \\\n",
      "0  0.000407  0.001795  0.002902    ...     0.018185  0.033048  0.118688   \n",
      "1  0.000366  0.000819  0.002535    ...     0.013552  0.021094  0.089818   \n",
      "\n",
      "         23        24        25        26        27        28        29  \n",
      "0  0.757457  0.000177  0.000264  0.000254  0.000106  0.000381  0.000113  \n",
      "1  0.823694  0.000107  0.000264  0.000292  0.000118  0.000237  0.000068  \n",
      "\n",
      "[2 rows x 27 columns]\n"
     ]
    },
    {
     "name": "stdout",
     "output_type": "stream",
     "text": [
      "         3         4         5         6         7         8         9   \\\n",
      "0  0.546532  0.000073  0.000097  0.000094  0.000052  0.000137  0.000046   \n",
      "1  0.629250  0.000128  0.000113  0.000072  0.000038  0.000240  0.000087   \n",
      "\n",
      "         10        11        12    ...           20        21        22  \\\n",
      "0  0.000381  0.000816  0.002637    ...     0.013439  0.020725  0.089272   \n",
      "1  0.000395  0.001725  0.002823    ...     0.018050  0.032437  0.117741   \n",
      "\n",
      "         23        24        25        26        27        28        29  \n",
      "0  0.825839  0.000106  0.000265  0.000292  0.000117  0.000236  0.000068  \n",
      "1  0.757468  0.000173  0.000261  0.000249  0.000106  0.000372  0.000110  \n",
      "\n",
      "[2 rows x 27 columns]\n",
      "         3         4         5         6         7         8         9   \\\n",
      "0  0.548554  0.000071  0.000093  0.000092  0.000051  0.000133  0.000044   \n",
      "1  0.629168  0.000130  0.000120  0.000079  0.000040  0.000245  0.000088   \n",
      "\n",
      "         10        11        12    ...           20        21        22  \\\n",
      "0  0.000368  0.000781  0.002537    ...     0.013288  0.020145  0.088185   \n",
      "1  0.000414  0.001818  0.002953    ...     0.018130  0.032835  0.118356   \n",
      "\n",
      "         23        24        25        26        27        28        29  \n",
      "0  0.825028  0.000103  0.000258  0.000288  0.000116  0.000232  0.000065  \n",
      "1  0.757180  0.000176  0.000271  0.000262  0.000108  0.000379  0.000113  \n",
      "\n",
      "[2 rows x 27 columns]\n",
      "         3         4         5         6         7         8         9   \\\n",
      "0  0.545119  0.000069  0.000092  0.000091  0.000050  0.000130  0.000044   \n",
      "1  0.627271  0.000129  0.000116  0.000074  0.000038  0.000245  0.000089   \n",
      "\n",
      "         10        11        12    ...           20        21        22  \\\n",
      "0  0.000372  0.000780  0.002569    ...     0.013220  0.020047  0.087672   \n",
      "1  0.000415  0.001815  0.002927    ...     0.018185  0.033051  0.118498   \n",
      "\n",
      "         23        24        25        26        27        28        29  \n",
      "0  0.827003  0.000100  0.000257  0.000285  0.000114  0.000225  0.000065  \n",
      "1  0.758656  0.000177  0.000265  0.000252  0.000103  0.000380  0.000113  \n",
      "\n",
      "[2 rows x 27 columns]\n",
      "         3         4         5         6         7         8         9   \\\n",
      "0  0.627333  0.000130  0.000118  0.000075  0.000038  0.000247  0.000089   \n",
      "1  0.541408  0.000068  0.000091  0.000092  0.000050  0.000126  0.000042   \n",
      "\n",
      "         10        11        12    ...           20        21        22  \\\n",
      "0  0.000413  0.001799  0.002932    ...     0.018165  0.032931  0.118485   \n",
      "1  0.000367  0.000749  0.002537    ...     0.012993  0.019321  0.086305   \n",
      "\n",
      "         23        24        25        26        27        28        29  \n",
      "0  0.758584  0.000177  0.000267  0.000255  0.000106  0.000382  0.000113  \n",
      "1  0.829819  0.000098  0.000256  0.000290  0.000115  0.000218  0.000063  \n",
      "\n",
      "[2 rows x 27 columns]\n",
      "         3         4         5         6         7         8         9   \\\n",
      "0  0.544530  0.000068  0.000092  0.000091  0.000050  0.000129  0.000043   \n",
      "1  0.627651  0.000131  0.000118  0.000075  0.000039  0.000248  0.000089   \n",
      "\n",
      "         10        11        12    ...           20        21        22  \\\n",
      "0  0.000373  0.000757  0.002584    ...     0.013126  0.019703  0.087172   \n",
      "1  0.000419  0.001780  0.002970    ...     0.018226  0.032867  0.118891   \n",
      "\n",
      "         23        24        25        26        27        28        29  \n",
      "0  0.827556  0.000099  0.000250  0.000278  0.000113  0.000220  0.000063  \n",
      "1  0.758286  0.000178  0.000265  0.000251  0.000106  0.000385  0.000113  \n",
      "\n",
      "[2 rows x 27 columns]\n",
      "         3         4        5         6         7         8         9   \\\n",
      "0  0.627859  0.000130  0.00012  0.000078  0.000039  0.000248  0.000089   \n",
      "1  0.546026  0.000066  0.00009  0.000092  0.000051  0.000123  0.000041   \n",
      "\n",
      "         10        11        12    ...           20        21        22  \\\n",
      "0  0.000411  0.001812  0.002929    ...     0.018213  0.033263  0.118930   \n",
      "1  0.000362  0.000707  0.002515    ...     0.012788  0.018376  0.085149   \n",
      "\n",
      "         23        24        25        26        27        28        29  \n",
      "0  0.758108  0.000177  0.000274  0.000266  0.000108  0.000383  0.000114  \n",
      "1  0.827119  0.000094  0.000250  0.000284  0.000114  0.000212  0.000061  \n",
      "\n",
      "[2 rows x 27 columns]\n",
      "         3         4         5         6         7         8         9   \\\n",
      "0  0.539910  0.000067  0.000091  0.000093  0.000051  0.000125  0.000041   \n",
      "1  0.628011  0.000130  0.000119  0.000078  0.000040  0.000246  0.000089   \n",
      "\n",
      "         10        11        12    ...           20        21        22  \\\n",
      "0  0.000363  0.000726  0.002506    ...     0.012942  0.019140  0.085999   \n",
      "1  0.000407  0.001768  0.002894    ...     0.018167  0.032877  0.118616   \n",
      "\n",
      "        23        24        25        26        27        28        29  \n",
      "0  0.83099  0.000098  0.000248  0.000283  0.000114  0.000215  0.000062  \n",
      "1  0.75804  0.000177  0.000272  0.000261  0.000108  0.000382  0.000113  \n",
      "\n",
      "[2 rows x 27 columns]\n",
      "         3         4         5         6         7         8         9   \\\n",
      "0  0.545893  0.000067  0.000090  0.000089  0.000050  0.000127  0.000042   \n",
      "1  0.627467  0.000130  0.000119  0.000077  0.000039  0.000245  0.000089   \n",
      "\n",
      "         10        11        12    ...           20        21        22  \\\n",
      "0  0.000377  0.000761  0.002608    ...     0.013037  0.019229  0.086529   \n",
      "1  0.000410  0.001803  0.002922    ...     0.018152  0.033132  0.118513   \n",
      "\n",
      "         23        24        25        26        27        28        29  \n",
      "0  0.827155  0.000097  0.000240  0.000271  0.000111  0.000219  0.000062  \n",
      "1  0.758498  0.000177  0.000271  0.000257  0.000107  0.000379  0.000114  \n",
      "\n",
      "[2 rows x 27 columns]\n",
      "         3        4         5         6         7         8         9   \\\n",
      "0  0.546734  0.00007  0.000092  0.000091  0.000050  0.000131  0.000044   \n",
      "1  0.628517  0.00013  0.000117  0.000074  0.000038  0.000245  0.000089   \n",
      "\n",
      "         10        11        12    ...           20        21        22  \\\n",
      "0  0.000372  0.000778  0.002562    ...     0.013188  0.019985  0.087494   \n",
      "1  0.000408  0.001803  0.002874    ...     0.018211  0.032738  0.118617   \n",
      "\n",
      "         23        24        25        26        27        28        29  \n",
      "0  0.825969  0.000101  0.000255  0.000284  0.000113  0.000228  0.000065  \n",
      "1  0.757706  0.000176  0.000264  0.000250  0.000106  0.000377  0.000113  \n",
      "\n",
      "[2 rows x 27 columns]\n",
      "         3        4         5         6         7         8         9   \\\n",
      "0  0.627356  0.00013  0.000118  0.000075  0.000039  0.000245  0.000089   \n",
      "1  0.545052  0.00007  0.000095  0.000094  0.000051  0.000132  0.000044   \n",
      "\n",
      "         10        11        12    ...           20        21        22  \\\n",
      "0  0.000404  0.001745  0.002880    ...     0.018167  0.032921  0.118622   \n",
      "1  0.000378  0.000766  0.002621    ...     0.013228  0.019914  0.087879   \n",
      "\n",
      "         23        24        25        26        27        28        29  \n",
      "0  0.758607  0.000177  0.000269  0.000252  0.000107  0.000381  0.000113  \n",
      "1  0.827082  0.000101  0.000264  0.000293  0.000116  0.000229  0.000066  \n",
      "\n",
      "[2 rows x 27 columns]\n",
      "         3         4         5         6         7         8         9   \\\n",
      "0  0.544655  0.000066  0.000086  0.000087  0.000049  0.000123  0.000041   \n",
      "1  0.627844  0.000129  0.000116  0.000072  0.000038  0.000243  0.000088   \n",
      "\n",
      "         10        11        12    ...           20        21        22  \\\n",
      "0  0.000365  0.000725  0.002519    ...     0.012897  0.018861  0.085473   \n",
      "1  0.000408  0.001751  0.002898    ...     0.018114  0.032468  0.118241   \n",
      "\n",
      "         23        24        25        26        27        28        29  \n",
      "0  0.827831  0.000094  0.000229  0.000266  0.000109  0.000210  0.000060  \n",
      "1  0.758432  0.000175  0.000264  0.000245  0.000106  0.000377  0.000112  \n",
      "\n",
      "[2 rows x 27 columns]\n",
      "         3         4         5         6         7         8         9   \\\n",
      "0  0.628886  0.000127  0.000116  0.000076  0.000039  0.000239  0.000086   \n",
      "1  0.548461  0.000072  0.000095  0.000093  0.000051  0.000135  0.000045   \n",
      "\n",
      "         10        11        12    ...           20        21        22  \\\n",
      "0  0.000403  0.001729  0.002875    ...     0.018002  0.032104  0.117599   \n",
      "1  0.000378  0.000816  0.002621    ...     0.013382  0.020546  0.088851   \n",
      "\n",
      "         23        24        25        26        27        28        29  \n",
      "0  0.757794  0.000172  0.000265  0.000256  0.000106  0.000370  0.000110  \n",
      "1  0.824772  0.000104  0.000261  0.000288  0.000116  0.000233  0.000066  \n",
      "\n",
      "[2 rows x 27 columns]\n"
     ]
    },
    {
     "name": "stdout",
     "output_type": "stream",
     "text": [
      "         3         4         5         6         7         8         9   \\\n",
      "0  0.628114  0.000131  0.000118  0.000075  0.000038  0.000247  0.000089   \n",
      "1  0.543589  0.000068  0.000092  0.000094  0.000052  0.000129  0.000043   \n",
      "\n",
      "         10        11        12    ...           20        21        22  \\\n",
      "0  0.000410  0.001815  0.002919    ...     0.018248  0.033345  0.118996   \n",
      "1  0.000357  0.000738  0.002468    ...     0.013066  0.019667  0.086796   \n",
      "\n",
      "         23        24        25        26        27        28        29  \n",
      "0  0.757895  0.000178  0.000267  0.000257  0.000106  0.000382  0.000114  \n",
      "1  0.828377  0.000099  0.000257  0.000293  0.000116  0.000226  0.000064  \n",
      "\n",
      "[2 rows x 27 columns]\n",
      "         3         4         5         6         7         8         9   \\\n",
      "0  0.628845  0.000129  0.000116  0.000074  0.000039  0.000244  0.000088   \n",
      "1  0.544715  0.000073  0.000095  0.000092  0.000051  0.000135  0.000045   \n",
      "\n",
      "         10        11        12    ...          20        21        22  \\\n",
      "0  0.000403  0.001786  0.002882    ...     0.01814  0.032858  0.118430   \n",
      "1  0.000373  0.000807  0.002594    ...     0.01340  0.020538  0.088983   \n",
      "\n",
      "         23        24        25        26        27        28        29  \n",
      "0  0.757539  0.000175  0.000265  0.000250  0.000106  0.000376  0.000112  \n",
      "1  0.827209  0.000105  0.000259  0.000289  0.000117  0.000235  0.000067  \n",
      "\n",
      "[2 rows x 27 columns]\n",
      "         3         4         5         6         7         8         9   \\\n",
      "0  0.629115  0.000128  0.000116  0.000075  0.000039  0.000240  0.000087   \n",
      "1  0.546802  0.000068  0.000092  0.000092  0.000051  0.000129  0.000042   \n",
      "\n",
      "         10        11        12    ...           20        21        22  \\\n",
      "0  0.000406  0.001750  0.002858    ...     0.017962  0.032050  0.117180   \n",
      "1  0.000361  0.000769  0.002511    ...     0.013075  0.019354  0.086808   \n",
      "\n",
      "         23        24        25        26        27        28        29  \n",
      "0  0.757594  0.000173  0.000262  0.000250  0.000106  0.000371  0.000110  \n",
      "1  0.826395  0.000099  0.000257  0.000288  0.000115  0.000223  0.000063  \n",
      "\n",
      "[2 rows x 27 columns]\n",
      "         3         4         5         6         7         8         9   \\\n",
      "0  0.628053  0.000129  0.000117  0.000075  0.000039  0.000241  0.000087   \n",
      "1  0.547095  0.000069  0.000091  0.000090  0.000050  0.000132  0.000044   \n",
      "\n",
      "         10        11        12    ...           20        21        22  \\\n",
      "0  0.000401  0.001717  0.002830    ...     0.018032  0.032168  0.117582   \n",
      "1  0.000365  0.000774  0.002533    ...     0.013205  0.019845  0.087685   \n",
      "\n",
      "         23        24        25        26        27        28        29  \n",
      "0  0.758386  0.000175  0.000265  0.000252  0.000107  0.000373  0.000111  \n",
      "1  0.825892  0.000100  0.000249  0.000279  0.000114  0.000229  0.000064  \n",
      "\n",
      "[2 rows x 27 columns]\n",
      "         3         4         5         6         7         8         9   \\\n",
      "0  0.627904  0.000131  0.000118  0.000076  0.000039  0.000248  0.000090   \n",
      "1  0.545039  0.000069  0.000092  0.000092  0.000051  0.000130  0.000043   \n",
      "\n",
      "         10        11        12    ...           20        21        22  \\\n",
      "0  0.000413  0.001844  0.002919    ...     0.018295  0.033515  0.119285   \n",
      "1  0.000368  0.000768  0.002555    ...     0.013150  0.019890  0.087328   \n",
      "\n",
      "         23        24        25        26        27        28        29  \n",
      "0  0.757946  0.000179  0.000268  0.000257  0.000108  0.000387  0.000115  \n",
      "1  0.827369  0.000100  0.000253  0.000285  0.000114  0.000224  0.000064  \n",
      "\n",
      "[2 rows x 27 columns]\n",
      "         3         4         5         6         7         8         9   \\\n",
      "0  0.543539  0.000070  0.000093  0.000092  0.000051  0.000131  0.000044   \n",
      "1  0.627805  0.000131  0.000119  0.000076  0.000039  0.000246  0.000089   \n",
      "\n",
      "        10       11        12    ...           20        21        22  \\\n",
      "0  0.00037  0.00076  0.002542    ...     0.013222  0.019878  0.087503   \n",
      "1  0.00041  0.00177  0.002913    ...     0.018174  0.032582  0.118671   \n",
      "\n",
      "         23        24        25        26        27        28        29  \n",
      "0  0.828312  0.000101  0.000259  0.000290  0.000116  0.000229  0.000065  \n",
      "1  0.758264  0.000178  0.000272  0.000259  0.000108  0.000381  0.000114  \n",
      "\n",
      "[2 rows x 27 columns]\n"
     ]
    }
   ],
   "source": [
    "from sklearn.cluster import SpectralClustering\n",
    "ps=[]\n",
    "rs=[]\n",
    "acs=[]\n",
    "fs=[]\n",
    "AUC=[]\n",
    "\n",
    "ps_tr=[]\n",
    "rs_tr=[]\n",
    "acs_tr=[]\n",
    "fs_tr=[]\n",
    "AUC_tr=[]\n",
    "for M in range(0,30):\n",
    "    train_df=pd.DataFrame\n",
    "    test_df=pd.DataFrame\n",
    "    train_x=pd.DataFrame\n",
    "    train_y=pd.DataFrame\n",
    "    pred_y_tr=pd.DataFrame\n",
    "    mal_df=df_new[df_new[1]==0]\n",
    "    ben_df=df_new[df_new[1]==1]\n",
    "    test_df=mal_df.sample(frac=0.2).append(ben_df.sample(frac=0.2))\n",
    "    index_todrop = test_df.index\n",
    "    train_df=df_new.drop(index = index_todrop)\n",
    "    train_y=train_df.loc[:,1]\n",
    "    train_x=train_df.iloc[:,2:]\n",
    "    test_y=test_df.loc[:,1]\n",
    "    test_x=test_df.iloc[:,2:]\n",
    "    \n",
    "    train_x=train_x.reset_index(drop=True)\n",
    "    train_y=train_y.reset_index(drop=True)\n",
    "    test_x=test_x.reset_index(drop=True)\n",
    "    test_y=test_y.reset_index(drop=True)\n",
    "    sc=SpectralClustering(n_clusters=2,affinity='rbf',n_init=5,random_state=random.randint(0,100)).fit(train_x)\n",
    "    label=pd.DataFrame(sc.labels_)\n",
    "    label_0=label[label[0]==0].index\n",
    "    label_1=label[label[0]==1].index\n",
    "    cluster0=train_x.iloc[label_0,:]\n",
    "    cluster1=train_x.iloc[label_1,:]\n",
    "    \n",
    "    center0=cluster0.mean(axis=0)\n",
    "    center1=cluster1.mean(axis=0)\n",
    "    #center0=center0.reset_index(drop=True)\n",
    "    #center1=center1.reset_index(drop=True)\n",
    "    #center=np.array([center0,center1])\n",
    "    #center.append(center0)\n",
    "    #center.append(center1)\n",
    "\n",
    "    center=pd.DataFrame()\n",
    "    center[0]=center0\n",
    "    center[1]=center1\n",
    "    print(center.T)\n",
    "    neigh = NearestNeighbors(n_neighbors=30,algorithm='brute').fit(train_x)\n",
    "    #print(neigh.kneighbors())\n",
    "    distances, indices = neigh.kneighbors(center.T)\n",
    "    cluster0=train_y.loc[indices[0]] #true values for 30 points in cluster 0      \n",
    "    poll0=cluster0.value_counts()\n",
    "    cluster1=train_y.loc[indices[1]] #true values for 30 points cluster 1\n",
    "    poll1=cluster1.value_counts()\n",
    "    #cluster1.value_counts()\n",
    "\n",
    "    pred_y_ = kmeans.labels_\n",
    "    pred_y_=pd.DataFrame(pred_y_)\n",
    "    pred_y_0=pred_y_[pred_y_[0]==0]\n",
    "    pred_y_1=pred_y_[pred_y_[0]==1]\n",
    "    max_index_0=np.argmax(poll0)\n",
    "    max_index_1=np.argmax(poll1)\n",
    "    pred_y_0['class']=max_index_0\n",
    "    pred_y_1['class']=max_index_1\n",
    "    pred_y_tr=pd.concat([pred_y_0['class'],pred_y_1['class']],axis=0)\n",
    "    pred_y_tr=pred_y_tr.sort_index()                                                                                           \n",
    " \n",
    "    #pred_y_tr = sc.labels_\n",
    "    #print(pred_y_tr)\n",
    "    ps_tr.append(precision_score(train_y, pred_y_tr))\n",
    "    rs_tr.append(recall_score(train_y, pred_y_tr))\n",
    "    acs_tr.append(accuracy_score(train_y, pred_y_tr)) \n",
    "    fs_tr.append(f1_score(train_y, pred_y_tr))\n",
    "    fpr_tr, tpr_tr, _ = roc_curve(train_y,pred_y_tr)\n",
    "    AUC_tr.append(auc(fpr_tr, tpr_tr))\n",
    "    \n",
    "    pred_y = kmeans.predict(test_x)\n",
    "    ps.append(precision_score(test_y, pred_y))\n",
    "    rs.append(recall_score(test_y, pred_y))\n",
    "    acs.append(accuracy_score(test_y, pred_y)) \n",
    "    fs.append(f1_score(test_y, pred_y))\n",
    "    fpr, tpr, _ = roc_curve(test_y,pred_y)\n",
    "    AUC.append(auc(fpr, tpr))"
   ]
  },
  {
   "cell_type": "markdown",
   "metadata": {},
   "source": [
    "### For TRAIN"
   ]
  },
  {
   "cell_type": "code",
   "execution_count": 176,
   "metadata": {},
   "outputs": [
    {
     "name": "stdout",
     "output_type": "stream",
     "text": [
      "For Train:\n",
      "Average Precision Score =  0.5564850101626017\n",
      "Average Recall Score =  0.4245920745920746\n",
      "Average Accuracy =  0.4638888888888889\n",
      "Average F1 score =  0.45707564241766196\n",
      "Average AUC =  0.4772960372960373\n"
     ]
    }
   ],
   "source": [
    "print(\"For Train:\")    \n",
    "p1=statistics.mean(ps_tr)    \n",
    "print(\"Average Precision Score = \",p1)\n",
    "r1=statistics.mean(rs_tr)\n",
    "print(\"Average Recall Score = \",r1)\n",
    "sc1=statistics.mean(acs_tr)\n",
    "print(\"Average Accuracy = \",sc1)\n",
    "f2=statistics.mean(fs_tr)\n",
    "print(\"Average F1 score = \",f2)\n",
    "a1=statistics.mean(AUC_tr)\n",
    "print(\"Average AUC = \",a1)"
   ]
  },
  {
   "cell_type": "code",
   "execution_count": 168,
   "metadata": {},
   "outputs": [
    {
     "data": {
      "text/plain": [
       "0.609173179761415"
      ]
     },
     "execution_count": 168,
     "metadata": {},
     "output_type": "execute_result"
    }
   ],
   "source": [
    "fpr, tpr, thresholds =roc_curve(train_y,pred_y_tr)\n",
    "auc(fpr, tpr) #train"
   ]
  },
  {
   "cell_type": "code",
   "execution_count": 169,
   "metadata": {},
   "outputs": [
    {
     "data": {
      "image/png": "[encoded data removed]",
      "text/plain": [
       "<Figure size 432x288 with 1 Axes>"
      ]
     },
     "metadata": {},
     "output_type": "display_data"
    }
   ],
   "source": [
    "plt.figure()\n",
    "lw = 2\n",
    "plt.plot(fpr, tpr, color='darkorange',lw=lw, label='ROC curve (area = %0.2f)' % roc_auc_score(y_true=train_y,y_score=pred_y_tr))\n",
    "plt.plot([0, 1], [0, 1], color='navy', lw=lw, linestyle='--')\n",
    "plt.xlim([0.0, 1.0])\n",
    "plt.ylim([0.0, 1.05])\n",
    "plt.xlabel('False Positive Rate')\n",
    "plt.ylabel('True Positive Rate')\n",
    "plt.title('ROC Curve')\n",
    "plt.legend(loc=\"lower right\")\n",
    "plt.show()"
   ]
  },
  {
   "cell_type": "code",
   "execution_count": 170,
   "metadata": {},
   "outputs": [
    {
     "name": "stdout",
     "output_type": "stream",
     "text": [
      "[[ 71  99]\n",
      " [ 57 229]]\n"
     ]
    }
   ],
   "source": [
    "cm6=confusion_matrix(train_y,pred_y_tr)\n",
    "print(cm6)"
   ]
  },
  {
   "cell_type": "markdown",
   "metadata": {},
   "source": [
    "### For TEST"
   ]
  },
  {
   "cell_type": "code",
   "execution_count": 177,
   "metadata": {},
   "outputs": [
    {
     "name": "stdout",
     "output_type": "stream",
     "text": [
      "For Test:\n",
      "Average Precision Score =  0.84415461524344\n",
      "Average Recall Score =  0.9704225352112676\n",
      "Average Accuracy =  0.868141592920354\n",
      "Average F1 score =  0.9025663547273011\n",
      "Average AUC =  0.8328303152246814\n"
     ]
    }
   ],
   "source": [
    "print(\"For Test:\")    \n",
    "p1=statistics.mean(ps)    \n",
    "print(\"Average Precision Score = \",p1)\n",
    "r1=statistics.mean(rs)\n",
    "print(\"Average Recall Score = \",r1)\n",
    "sc1=statistics.mean(acs)\n",
    "print(\"Average Accuracy = \",sc1)\n",
    "f2=statistics.mean(fs)\n",
    "print(\"Average F1 score = \",f2)\n",
    "a1=statistics.mean(AUC)\n",
    "print(\"Average AUC = \",a1)"
   ]
  },
  {
   "cell_type": "code",
   "execution_count": 171,
   "metadata": {},
   "outputs": [
    {
     "data": {
      "text/plain": [
       "0.8479208584842388"
      ]
     },
     "execution_count": 171,
     "metadata": {},
     "output_type": "execute_result"
    }
   ],
   "source": [
    "fpr, tpr, thresholds =roc_curve(test_y,pred_y)\n",
    "auc(fpr, tpr)"
   ]
  },
  {
   "cell_type": "code",
   "execution_count": 172,
   "metadata": {},
   "outputs": [
    {
     "data": {
      "image/png": "[encoded data removed]",
      "text/plain": [
       "<Figure size 432x288 with 1 Axes>"
      ]
     },
     "metadata": {},
     "output_type": "display_data"
    }
   ],
   "source": [
    "plt.figure()\n",
    "lw = 2\n",
    "plt.plot(fpr, tpr, color='darkorange',lw=lw, label='ROC curve (area = %0.2f)' % roc_auc_score(y_true=test_y,y_score=pred_y))\n",
    "plt.plot([0, 1], [0, 1], color='navy', lw=lw, linestyle='--')\n",
    "plt.xlim([0.0, 1.0])\n",
    "plt.ylim([0.0, 1.05])\n",
    "plt.xlabel('False Positive Rate')\n",
    "plt.ylabel('True Positive Rate')\n",
    "plt.title('ROC Curve')\n",
    "plt.legend(loc=\"lower right\")\n",
    "plt.show()"
   ]
  },
  {
   "cell_type": "code",
   "execution_count": 173,
   "metadata": {},
   "outputs": [
    {
     "data": {
      "text/plain": [
       "Text(33,0.5,'Actual')"
      ]
     },
     "execution_count": 173,
     "metadata": {},
     "output_type": "execute_result"
    },
    {
     "data": {
      "image/png": "[encoded data removed]",
      "text/plain": [
       "<Figure size 432x288 with 2 Axes>"
      ]
     },
     "metadata": {},
     "output_type": "display_data"
    }
   ],
   "source": [
    "cm7=confusion_matrix(test_y,pred_y)\n",
    "sns.heatmap(cm7,annot=True,cmap='YlGnBu')\n",
    "plt.xlabel('Predicted')\n",
    "plt.ylabel('Actual')"
   ]
  },
  {
   "cell_type": "markdown",
   "metadata": {},
   "source": [
    "### v.Compare the results\n",
    "As we can see above, the respective test and train accuracies for supervised training is better than that of semi-supervised learning.\n",
    "The metrics change as and when the algorithm is run again. <br>\n",
    "Unsupervised Learning not as well as Supervised Learning. It can be seen from the errors and accuracies obtained above. <br>\n",
    "Average accuracy for kmeans is 0.44 <br>\n",
    "Average accuracy for spectral clustering is 0.46"
   ]
  },
  {
   "cell_type": "code",
   "execution_count": null,
   "metadata": {},
   "outputs": [],
   "source": []
  }
 ],
 "metadata": {
  "kernelspec": {
   "display_name": "Python 3",
   "language": "python",
   "name": "python3"
  },
  "language_info": {
   "codemirror_mode": {
    "name": "ipython",
    "version": 3
   },
   "file_extension": ".py",
   "mimetype": "text/x-python",
   "name": "python",
   "nbconvert_exporter": "python",
   "pygments_lexer": "ipython3",
   "version": "3.6.5"
  }
 },
 "nbformat": 4,
 "nbformat_minor": 2
}
